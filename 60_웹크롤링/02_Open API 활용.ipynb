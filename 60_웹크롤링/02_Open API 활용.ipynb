{
 "cells": [
  {
   "cell_type": "markdown",
   "metadata": {},
   "source": [
    "# 2.Open API 활용\n",
    "\n",
    "### 공공데이터포털 사이트 이용\n",
    "1. 공공데이터 사이트 회원가입/로그인\n",
    "2. 데이터 검색\n",
    "3. API 사용 요청, 키 발급\n",
    "4. API 매뉴얼 확인\n",
    "5. API 연동 개발 및 테스트"
   ]
  },
  {
   "cell_type": "code",
   "execution_count": 34,
   "metadata": {},
   "outputs": [],
   "source": [
    "import requests\n",
    "import pandas as pd\n",
    "import xmltodict\n",
    "import json"
   ]
  },
  {
   "cell_type": "markdown",
   "metadata": {},
   "source": [
    "### 보건복지부 코로나19 감염 현황(XML)"
   ]
  },
  {
   "cell_type": "code",
   "execution_count": 35,
   "metadata": {},
   "outputs": [
    {
     "data": {
      "text/plain": [
       "'http://openapi.data.go.kr/openapi/service/rest/Covid19/getCovid19InfStateJson?serviceKey=c3r5v%2BOHnYxIIXGCAeXgyxeatTf%2Frp0dBZMUX29zibjE45MrreamYQmo4O7rZRTxetf6MFB0NUX9cukh%2F7COtw%3D%3D&pageNo=1&numOfRows=10&startCreateDt=20200310&endCreateDt=20210830'"
      ]
     },
     "execution_count": 35,
     "metadata": {},
     "output_type": "execute_result"
    }
   ],
   "source": [
    "servicekey = 'c3r5v%2BOHnYxIIXGCAeXgyxeatTf%2Frp0dBZMUX29zibjE45MrreamYQmo4O7rZRTxetf6MFB0NUX9cukh%2F7COtw%3D%3D'\n",
    "\n",
    "url = f'http://openapi.data.go.kr/openapi/service/rest/Covid19/getCovid19InfStateJson?serviceKey={servicekey}&pageNo=1&numOfRows=10&startCreateDt=20200310&endCreateDt=20210830'\n",
    "url"
   ]
  },
  {
   "cell_type": "code",
   "execution_count": null,
   "metadata": {},
   "outputs": [],
   "source": []
  },
  {
   "cell_type": "code",
   "execution_count": 36,
   "metadata": {},
   "outputs": [
    {
     "data": {
      "text/plain": [
       "<Response [200]>"
      ]
     },
     "execution_count": 36,
     "metadata": {},
     "output_type": "execute_result"
    }
   ],
   "source": [
    "res = requests.get(url)\n",
    "res"
   ]
  },
  {
   "cell_type": "code",
   "execution_count": 37,
   "metadata": {},
   "outputs": [
    {
     "data": {
      "text/plain": [
       "'<?xml version=\"1.0\" encoding=\"UTF-8\" standalone=\"yes\"?><response><header><resultCode>00</resultCode>'"
      ]
     },
     "execution_count": 37,
     "metadata": {},
     "output_type": "execute_result"
    }
   ],
   "source": [
    "res.text[:100]"
   ]
  },
  {
   "cell_type": "code",
   "execution_count": 48,
   "metadata": {},
   "outputs": [
    {
     "data": {
      "text/plain": [
       "collections.OrderedDict"
      ]
     },
     "execution_count": 48,
     "metadata": {},
     "output_type": "execute_result"
    }
   ],
   "source": [
    "temp = xmltodict.parse(res.text)\n",
    "type(temp)"
   ]
  },
  {
   "cell_type": "code",
   "execution_count": 52,
   "metadata": {},
   "outputs": [],
   "source": [
    "result = json.loads(json.dumps(temp)) #OrderDict => dict(which is a str) =>dict\n",
    "# result"
   ]
  },
  {
   "cell_type": "markdown",
   "metadata": {},
   "source": [
    "## items = result['response']['body']['items']['item']\n",
    "# for item in items:\n",
    "#     pass\n",
    "# #     print(item)\n",
    "items"
   ]
  },
  {
   "cell_type": "markdown",
   "metadata": {},
   "source": [
    "# 일자(STATE_DT), 확진자수(DECIDE_CNT), 사망자수(DEATH_CNT), 치료중환자수(CARE_CNT)"
   ]
  },
  {
   "cell_type": "code",
   "execution_count": 41,
   "metadata": {},
   "outputs": [
    {
     "ename": "KeyError",
     "evalue": "'careCnt'",
     "output_type": "error",
     "traceback": [
      "\u001b[0;31m---------------------------------------------------------------------------\u001b[0m",
      "\u001b[0;31mKeyError\u001b[0m                                  Traceback (most recent call last)",
      "\u001b[0;32m<ipython-input-41-0a9365fe6730>\u001b[0m in \u001b[0;36m<module>\u001b[0;34m\u001b[0m\n\u001b[1;32m      9\u001b[0m     \u001b[0mdecide_cnt\u001b[0m\u001b[0;34m.\u001b[0m\u001b[0mappend\u001b[0m\u001b[0;34m(\u001b[0m\u001b[0mitem\u001b[0m\u001b[0;34m[\u001b[0m\u001b[0;34m'decideCnt'\u001b[0m\u001b[0;34m]\u001b[0m\u001b[0;34m)\u001b[0m\u001b[0;34m\u001b[0m\u001b[0;34m\u001b[0m\u001b[0m\n\u001b[1;32m     10\u001b[0m     \u001b[0mdeath_cnt\u001b[0m\u001b[0;34m.\u001b[0m\u001b[0mappend\u001b[0m\u001b[0;34m(\u001b[0m\u001b[0mitem\u001b[0m\u001b[0;34m[\u001b[0m\u001b[0;34m'deathCnt'\u001b[0m\u001b[0;34m]\u001b[0m\u001b[0;34m)\u001b[0m\u001b[0;34m\u001b[0m\u001b[0;34m\u001b[0m\u001b[0m\n\u001b[0;32m---> 11\u001b[0;31m     \u001b[0mcare_cnt\u001b[0m\u001b[0;34m.\u001b[0m\u001b[0mappend\u001b[0m\u001b[0;34m(\u001b[0m\u001b[0mitem\u001b[0m\u001b[0;34m[\u001b[0m\u001b[0;34m'careCnt'\u001b[0m\u001b[0;34m]\u001b[0m\u001b[0;34m)\u001b[0m\u001b[0;34m\u001b[0m\u001b[0;34m\u001b[0m\u001b[0m\n\u001b[0m",
      "\u001b[0;31mKeyError\u001b[0m: 'careCnt'"
     ]
    }
   ],
   "source": [
    "state_dt = []\n",
    "decide_cnt = []\n",
    "death_cnt = []\n",
    "care_cnt = []\n",
    "\n",
    "\n",
    "for item in items:\n",
    "    state_dt.append(item['stateDt'])\n",
    "    decide_cnt.append(item['decideCnt'])\n",
    "    death_cnt.append(item['deathCnt'])\n",
    "    care_cnt.append(item['careCnt'])\n"
   ]
  },
  {
   "cell_type": "code",
   "execution_count": null,
   "metadata": {},
   "outputs": [],
   "source": [
    "# dataFrame 생성\n",
    "df_data = {\n",
    "    '기준일':state_dt,\n",
    "    '확진자수':decide_cnt,\n",
    "    '사망자수':death_cnt,\n",
    "    '치료중환자수':care_cnt\n",
    "}\n",
    "# df_data"
   ]
  },
  {
   "cell_type": "code",
   "execution_count": null,
   "metadata": {},
   "outputs": [],
   "source": [
    "df = pd.DataFrame(data = df_data)\n",
    "df"
   ]
  },
  {
   "cell_type": "markdown",
   "metadata": {},
   "source": [
    "# 한국 관광공사 - 관광정보 서비스 JSON"
   ]
  },
  {
   "cell_type": "code",
   "execution_count": null,
   "metadata": {},
   "outputs": [],
   "source": [
    "serviceKey = 'c3r5v%2BOHnYxIIXGCAeXgyxeatTf%2Frp0dBZMUX29zibjE45MrreamYQmo4O7rZRTxetf6MFB0NUX9cukh%2F7COtw%3D%3D'\n",
    "pageNo = 1\n",
    "\n",
    "url = 'http://api.visitkorea.or.kr/openapi/service/rest/KorService/areaCode?ServiceKey={}&numOfRows=10&pageNo={}&MobileOS=ETC&MobileApp=AppTest&_type=json'.format(serviceKey,pageNo)\n",
    "url"
   ]
  },
  {
   "cell_type": "code",
   "execution_count": null,
   "metadata": {},
   "outputs": [],
   "source": [
    "res = requests.get(url)\n",
    "res.text"
   ]
  },
  {
   "cell_type": "code",
   "execution_count": null,
   "metadata": {},
   "outputs": [],
   "source": [
    "data = res.json()\n",
    "data"
   ]
  },
  {
   "cell_type": "code",
   "execution_count": null,
   "metadata": {},
   "outputs": [],
   "source": [
    "numOfRows = data['response']['body']['numOfRows']\n",
    "totalCount = data['response']['body']['totalCount']\n",
    "numOfRows,totalCount"
   ]
  },
  {
   "cell_type": "code",
   "execution_count": null,
   "metadata": {},
   "outputs": [],
   "source": [
    "# (totalCount-1)//numOfRows + 1 \n",
    "\n",
    "queryCount = totalCount//numOfRows\n",
    "if totalCount % numOfRows > 0:\n",
    "    queryCount+=1\n",
    "queryCount"
   ]
  },
  {
   "cell_type": "code",
   "execution_count": null,
   "metadata": {},
   "outputs": [],
   "source": [
    "code = []\n",
    "name = []\n",
    "rnum = []\n",
    "\n",
    "for i in range(queryCount):\n",
    "    pageNo = i+1\n",
    "    url = 'http://api.visitkorea.or.kr/openapi/service/rest/KorService/areaCode?ServiceKey={}&numOfRows=10&pageNo={}&MobileOS=ETC&MobileApp=AppTest&_type=json'.format(serviceKey,pageNo)\n",
    "    res = requests.get(url)\n",
    "    data = res.json()\n",
    "    \n",
    "    items = data['response']['body']['items']['item']\n",
    "    \n",
    "    for item in items:\n",
    "        code.append(item['code'])\n",
    "        name.append(item['name'])\n",
    "        rnum.append(item['rnum'])\n",
    "\n"
   ]
  },
  {
   "cell_type": "code",
   "execution_count": null,
   "metadata": {},
   "outputs": [],
   "source": [
    "df_data = {\n",
    "    'code':code,\n",
    "    'name':name,\n",
    "    'rnum':rnum\n",
    "}\n",
    "\n",
    "df = pd.DataFrame(data = df_data)\n",
    "df"
   ]
  },
  {
   "cell_type": "code",
   "execution_count": null,
   "metadata": {},
   "outputs": [],
   "source": []
  }
 ],
 "metadata": {
  "kernelspec": {
   "display_name": "Python 3",
   "language": "python",
   "name": "python3"
  },
  "language_info": {
   "codemirror_mode": {
    "name": "ipython",
    "version": 3
   },
   "file_extension": ".py",
   "mimetype": "text/x-python",
   "name": "python",
   "nbconvert_exporter": "python",
   "pygments_lexer": "ipython3",
   "version": "3.8.5"
  }
 },
 "nbformat": 4,
 "nbformat_minor": 4
}
