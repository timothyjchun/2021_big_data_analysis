{
 "cells": [
  {
   "cell_type": "markdown",
   "metadata": {},
   "source": [
    "# 1. requests 모듈\n",
    "* HTTP request/response 처리를 위한 모듈\n"
   ]
  },
  {
   "cell_type": "markdown",
   "metadata": {},
   "source": [
    "### requests 모듈 import"
   ]
  },
  {
   "cell_type": "code",
   "execution_count": 2,
   "metadata": {},
   "outputs": [],
   "source": [
    "import requests"
   ]
  },
  {
   "cell_type": "code",
   "execution_count": 3,
   "metadata": {},
   "outputs": [
    {
     "data": {
      "text/plain": [
       "'2.24.0'"
      ]
     },
     "execution_count": 3,
     "metadata": {},
     "output_type": "execute_result"
    }
   ],
   "source": [
    "requests.__version__"
   ]
  },
  {
   "cell_type": "markdown",
   "metadata": {},
   "source": [
    "### get 방식으로 http 요청하기\n",
    "* naver 검색으로 get 방식 살펴보기\n",
    "* request.get(url)\n",
    "* query parameter로 데이터 전달"
   ]
  },
  {
   "cell_type": "code",
   "execution_count": 4,
   "metadata": {},
   "outputs": [
    {
     "name": "stdout",
     "output_type": "stream",
     "text": [
      "{'_content': b'{\\n  \"args\": {\\n    \"key1\": \"value1\", \\n    \"key2\": \"value2\"\\n  '\n",
      "             b'}, \\n  \"headers\": {\\n    \"Accept\": \"*/*\", \\n    \"Accept-Encodin'\n",
      "             b'g\": \"gzip, deflate\", \\n    \"Host\": \"httpbin.org\", \\n    \"User-'\n",
      "             b'Agent\": \"python-requests/2.24.0\", \\n    \"X-Amzn-Trace-Id\": \"R'\n",
      "             b'oot=1-61ae1380-66af27c4624dd3ec2711b605\"\\n  }, \\n  \"origin\": \"'\n",
      "             b'175.212.188.170\", \\n  \"url\": \"http://httpbin.org/get?key1=val'\n",
      "             b'ue1&key2=value2\"\\n}\\n',\n",
      " '_content_consumed': True,\n",
      " '_next': None,\n",
      " 'connection': <requests.adapters.HTTPAdapter object at 0x7fac296f46d0>,\n",
      " 'cookies': <RequestsCookieJar[]>,\n",
      " 'elapsed': datetime.timedelta(microseconds=421463),\n",
      " 'encoding': None,\n",
      " 'headers': {'Date': 'Mon, 06 Dec 2021 13:43:28 GMT', 'Content-Type': 'application/json', 'Content-Length': '379', 'Connection': 'keep-alive', 'Server': 'gunicorn/19.9.0', 'Access-Control-Allow-Origin': '*', 'Access-Control-Allow-Credentials': 'true'},\n",
      " 'history': [],\n",
      " 'raw': <urllib3.response.HTTPResponse object at 0x7fac2972f280>,\n",
      " 'reason': 'OK',\n",
      " 'request': <PreparedRequest [GET]>,\n",
      " 'status_code': 200,\n",
      " 'url': 'http://httpbin.org/get?key1=value1&key2=value2'}\n"
     ]
    }
   ],
   "source": [
    "url = 'http://httpbin.org/get'\n",
    "params = {\n",
    "    'key1' : 'value1',\n",
    "    'key2' : 'value2'\n",
    "}\n",
    "res = requests.get(url,params = params)\n",
    "import pprint\n",
    "pprint.pprint(vars(res))\n"
   ]
  },
  {
   "cell_type": "code",
   "execution_count": 5,
   "metadata": {},
   "outputs": [
    {
     "data": {
      "text/plain": [
       "200"
      ]
     },
     "execution_count": 5,
     "metadata": {},
     "output_type": "execute_result"
    }
   ],
   "source": [
    "res.status_code"
   ]
  },
  {
   "cell_type": "code",
   "execution_count": 6,
   "metadata": {},
   "outputs": [
    {
     "name": "stdout",
     "output_type": "stream",
     "text": [
      "{'Access-Control-Allow-Credentials': 'true',\n",
      " 'Access-Control-Allow-Origin': '*',\n",
      " 'Connection': 'keep-alive',\n",
      " 'Content-Length': '379',\n",
      " 'Content-Type': 'application/json',\n",
      " 'Date': 'Mon, 06 Dec 2021 13:43:28 GMT',\n",
      " 'Server': 'gunicorn/19.9.0'}\n"
     ]
    }
   ],
   "source": [
    "import pprint\n",
    "pprint.pprint(dict(res.headers))"
   ]
  },
  {
   "cell_type": "code",
   "execution_count": 7,
   "metadata": {},
   "outputs": [
    {
     "name": "stdout",
     "output_type": "stream",
     "text": [
      "{'args': {'key1': 'value1', 'key2': 'value2'},\n",
      " 'headers': {'Accept': '*/*',\n",
      "             'Accept-Encoding': 'gzip, deflate',\n",
      "             'Host': 'httpbin.org',\n",
      "             'User-Agent': 'python-requests/2.24.0',\n",
      "             'X-Amzn-Trace-Id': 'Root=1-61ae1380-66af27c4624dd3ec2711b605'},\n",
      " 'origin': '175.212.188.170',\n",
      " 'url': 'http://httpbin.org/get?key1=value1&key2=value2'}\n"
     ]
    }
   ],
   "source": [
    "pprint.pprint(res.json())"
   ]
  },
  {
   "cell_type": "code",
   "execution_count": 8,
   "metadata": {},
   "outputs": [
    {
     "data": {
      "text/plain": [
       "'value1'"
      ]
     },
     "execution_count": 8,
     "metadata": {},
     "output_type": "execute_result"
    }
   ],
   "source": [
    "res.json()['args']['key1']"
   ]
  },
  {
   "cell_type": "code",
   "execution_count": 9,
   "metadata": {},
   "outputs": [
    {
     "name": "stdout",
     "output_type": "stream",
     "text": [
      "<Response [200]>\n",
      "{'_body_position': None,\n",
      " '_cookies': <RequestsCookieJar[]>,\n",
      " 'body': None,\n",
      " 'headers': {'User-Agent': 'python-requests/2.24.0', 'Accept-Encoding': 'gzip, deflate', 'Accept': '*/*', 'Connection': 'keep-alive'},\n",
      " 'hooks': {'response': []},\n",
      " 'method': 'GET',\n",
      " 'url': 'https://search.naver.com/search.naver?query=%EB%94%94%EB%AF%B8%EA%B3%A0'}\n"
     ]
    }
   ],
   "source": [
    "url = 'https://search.naver.com/search.naver'\n",
    "params = {\n",
    "    'query':'디미고'\n",
    "}\n",
    "res = requests.get(url, params = params)\n",
    "print(res)\n",
    "pprint.pprint(vars(res.request))"
   ]
  },
  {
   "cell_type": "code",
   "execution_count": 10,
   "metadata": {},
   "outputs": [
    {
     "data": {
      "text/plain": [
       "{'User-Agent': 'python-requests/2.24.0', 'Accept-Encoding': 'gzip, deflate', 'Accept': '*/*', 'Connection': 'keep-alive'}"
      ]
     },
     "execution_count": 10,
     "metadata": {},
     "output_type": "execute_result"
    }
   ],
   "source": [
    "res.request.headers"
   ]
  },
  {
   "cell_type": "code",
   "execution_count": 11,
   "metadata": {},
   "outputs": [
    {
     "name": "stdout",
     "output_type": "stream",
     "text": [
      "{'Accept': '*/*',\n",
      " 'Accept-Encoding': 'gzip, deflate',\n",
      " 'Connection': 'keep-alive',\n",
      " 'User-Agent': 'python-requests/2.24.0'}\n"
     ]
    }
   ],
   "source": [
    "pprint.pprint(dict(res.request.headers))"
   ]
  },
  {
   "cell_type": "code",
   "execution_count": 12,
   "metadata": {},
   "outputs": [
    {
     "data": {
      "text/plain": [
       "'<!doctype html> <html lang=\"ko\"> <head> <meta charset=\"utf-8\"> <meta name=\"referrer\" content=\"always\">  <meta name=\"format-detection\" content=\"telephone=no,address=no,email=no\"> <meta name=\"viewport\" content=\"width=device-width,initial-scale=1.0,maximum-scale=2.0\"> <meta property=\"og:title\" content=\"디미고 : 네이버 통합검색\"/> <meta property=\"og:image\" content=\"https://ssl.pstatic.net/sstatic/search/common/og_v3.png\"> <meta property=\"og:description\" content=\"\\'디미고\\'의 네이버 통합검색 결과입니다.\"> <meta name=\"description\" lang=\"ko\" content=\"\\'디미고\\'의 네이버 통합검색 결과입니다.\"> <title>디미고 : 네이버 통합검색</title> <link rel=\"shortcut icon\" href=\"https://ssl.pstatic.net/sstatic/search/favicon/favicon_191118_pc.ico\">  <link rel=\"search\" type=\"application/opensearchdescription+xml\" href=\"https://ssl.pstatic.net/sstatic/search/opensearch-description.https.xml\" title=\"Naver\" /><link rel=\"stylesheet\" type=\"text/css\" href=\"https://ssl.pstatic.net/sstatic/search/pc/css/search1_211202.css\"> <link rel=\"stylesheet\" type=\"text/css\" href=\"htt'"
      ]
     },
     "execution_count": 12,
     "metadata": {},
     "output_type": "execute_result"
    }
   ],
   "source": [
    "res.text[:1000]"
   ]
  },
  {
   "cell_type": "markdown",
   "metadata": {},
   "source": [
    "### post 방식으로  요청하기\n",
    "* naver 로그인으로 post방식  살펴보기\n",
    "* requests.post(url)\n",
    "* form data로 데이터 전달하기"
   ]
  },
  {
   "cell_type": "code",
   "execution_count": 13,
   "metadata": {},
   "outputs": [
    {
     "data": {
      "text/plain": [
       "<Response [200]>"
      ]
     },
     "execution_count": 13,
     "metadata": {},
     "output_type": "execute_result"
    }
   ],
   "source": [
    "url = 'http://httpbin.org/post'\n",
    "data = {\n",
    "    'id':'testid',\n",
    "    \"pwd\":\"testpwd\"\n",
    "}\n",
    "res = requests.post(url,data=data)\n",
    "res"
   ]
  },
  {
   "cell_type": "code",
   "execution_count": 14,
   "metadata": {},
   "outputs": [
    {
     "data": {
      "text/plain": [
       "'{\\n  \"args\": {}, \\n  \"data\": \"\", \\n  \"files\": {}, \\n  \"form\": {\\n    \"id\": \"testid\", \\n    \"pwd\": \"testpwd\"\\n  }, \\n  \"headers\": {\\n    \"Accept\": \"*/*\", \\n    \"Accept-Encoding\": \"gzip, deflate\", \\n    \"Content-Length\": \"21\", \\n    \"Content-Type\": \"application/x-www-form-urlencoded\", \\n    \"Host\": \"httpbin.org\", \\n    \"User-Agent\": \"python-requests/2.24.0\", \\n    \"X-Amzn-Trace-Id\": \"Root=1-61ae1382-717494722d0e0208217e8a0f\"\\n  }, \\n  \"json\": null, \\n  \"origin\": \"175.212.188.170\", \\n  \"url\": \"http://httpbin.org/post\"\\n}\\n'"
      ]
     },
     "execution_count": 14,
     "metadata": {},
     "output_type": "execute_result"
    }
   ],
   "source": [
    "res.text"
   ]
  },
  {
   "cell_type": "code",
   "execution_count": 15,
   "metadata": {},
   "outputs": [
    {
     "data": {
      "text/plain": [
       "{'args': {},\n",
       " 'data': '',\n",
       " 'files': {},\n",
       " 'form': {'id': 'testid', 'pwd': 'testpwd'},\n",
       " 'headers': {'Accept': '*/*',\n",
       "  'Accept-Encoding': 'gzip, deflate',\n",
       "  'Content-Length': '21',\n",
       "  'Content-Type': 'application/x-www-form-urlencoded',\n",
       "  'Host': 'httpbin.org',\n",
       "  'User-Agent': 'python-requests/2.24.0',\n",
       "  'X-Amzn-Trace-Id': 'Root=1-61ae1382-717494722d0e0208217e8a0f'},\n",
       " 'json': None,\n",
       " 'origin': '175.212.188.170',\n",
       " 'url': 'http://httpbin.org/post'}"
      ]
     },
     "execution_count": 15,
     "metadata": {},
     "output_type": "execute_result"
    }
   ],
   "source": [
    "res.json()"
   ]
  },
  {
   "cell_type": "code",
   "execution_count": 16,
   "metadata": {},
   "outputs": [
    {
     "data": {
      "text/plain": [
       "'testpwd'"
      ]
     },
     "execution_count": 16,
     "metadata": {},
     "output_type": "execute_result"
    }
   ],
   "source": [
    "res.json()['form']['pwd']"
   ]
  },
  {
   "cell_type": "code",
   "execution_count": 17,
   "metadata": {},
   "outputs": [
    {
     "data": {
      "text/plain": [
       "<Response [200]>"
      ]
     },
     "execution_count": 17,
     "metadata": {},
     "output_type": "execute_result"
    }
   ],
   "source": [
    "url = 'https://news.naver.com/main/read.naver?mode=LSD&mid=shm&sid1=105&oid=092&aid=0002230498'\n",
    "headers = {\n",
    "    'user-agent':'Mozilla/5.0 (Macintosh; Intel Mac OS X 10_15_7) AppleWebKit/605.1.15 (KHTML, like Gecko) Version/14.1.2 Safari/605.1.15'\n",
    "}\n",
    "res = requests.get(url,headers = headers)\n",
    "res\n"
   ]
  },
  {
   "cell_type": "code",
   "execution_count": 18,
   "metadata": {},
   "outputs": [
    {
     "data": {
      "text/plain": [
       "'<!DOCTYPE HTML> \\r\\n<html lang=\"ko\"> \\r\\n<head>\\r\\n<meta charset=\"euc-kr\">\\r\\n<meta http-equiv=\"X-UA-Compatible\" content=\"IE=edge\">\\r\\n<meta name=\"referrer\" contents=\"always\">\\r\\n<meta name=\"viewport\" content=\"width=1106\" />\\r\\n<title>삼성전자, 친환경 비전 \\'지구를 위한 갤럭시\\' 공개 : 네이버 뉴스</title>\\r\\n\\n\\n\\t\\n\\t\\n\\t\\t\\n\\t\\n\\n\\n\\t\\n\\t\\n\\t\\n\\t\\t\\n\\t\\t\\n\\t\\t\\n\\t\\n\\n<meta property=\"me2:post_tag\"\\t\\tcontent=\"ZDNet Korea : 네이버뉴스\"/>\\n<meta property=\"me2:category1\"\\t\\tcontent=\"ZDNet Korea\"/>\\n<meta property=\"me2:category2\"\\t\\tcontent=\"IT/과학\"/>\\n<meta property=\"me2:image\"\\t\\t\\tcontent=\"https://imgnews.pstatic.net/image/092/2021/08/12/0002230498_001_20210812081907372.jpg\"/>\\n\\n<meta property=\"og:title\"\\t\\t\\tcontent=\"삼성전자, 친환경 비전 \\'지구를 위한 갤럭시\\' 공개\"/>\\n<meta property=\"og:type\"\\t\\t\\tcontent=\"article\"/>\\n<meta property=\"og:url\"\\t\\t\\t\\tcontent=\"https://news.naver.com/main/read.naver?mode=LSD&mid=sec&oid=092&aid=0002230498&sid1=001\"/>\\n<meta property=\"og:image\"\\t\\t\\tcontent=\"https://imgnews.pstatic.net/image/092/2021/08/12/0002230498_001_20210812081907372.jpg\"/>\\n<meta property=\"og:description\"\\t\\tco'"
      ]
     },
     "execution_count": 18,
     "metadata": {},
     "output_type": "execute_result"
    }
   ],
   "source": [
    "res.text[:1000]"
   ]
  },
  {
   "cell_type": "code",
   "execution_count": 19,
   "metadata": {},
   "outputs": [
    {
     "data": {
      "text/plain": [
       "200"
      ]
     },
     "execution_count": 19,
     "metadata": {},
     "output_type": "execute_result"
    }
   ],
   "source": [
    "requests.codes.ok"
   ]
  },
  {
   "cell_type": "code",
   "execution_count": 20,
   "metadata": {},
   "outputs": [
    {
     "data": {
      "text/plain": [
       "<Response [200]>"
      ]
     },
     "execution_count": 20,
     "metadata": {},
     "output_type": "execute_result"
    }
   ],
   "source": [
    "#멜론 차트 검색\n",
    "url = \"https://www.melon.com/chart/index.htm\"\n",
    "\n",
    "headers = {\n",
    "    'user-agent':'Mozilla/5.0 (Macintosh; Intel Mac OS X 10_15_7) AppleWebKit/605.1.15 (KHTML, like Gecko) Version/14.1.2 Safari/605.1.15'\n",
    "}\n",
    "res = requests.get(url,headers = headers)\n",
    "res"
   ]
  },
  {
   "cell_type": "code",
   "execution_count": 21,
   "metadata": {},
   "outputs": [
    {
     "data": {
      "text/plain": [
       "'<!DOCTYPE html>\\r\\n<html lang=\"ko\">\\r\\n\\r\\n\\r\\n\\r\\n\\r\\n\\r\\n\\r\\n\\r\\n\\r\\n\\r\\n\\r\\n\\r\\n\\r\\n\\r\\n<head>\\r\\n\\t\\t\\r\\n\\t\\r\\n\\t\\r\\n\\t\\r\\n\\t\\r\\n\\t\\r\\n\\t\\r\\n\\t\\r\\n\\r\\n\\t<me'"
      ]
     },
     "execution_count": 21,
     "metadata": {},
     "output_type": "execute_result"
    }
   ],
   "source": [
    "res.text[:100]"
   ]
  },
  {
   "cell_type": "code",
   "execution_count": 22,
   "metadata": {},
   "outputs": [
    {
     "name": "stdout",
     "output_type": "stream",
     "text": [
      "<!DOCTYPE html>\n",
      "<html lang=\"ko\">\n",
      "\n",
      "\n",
      "\n",
      "\n",
      "\n",
      "\n",
      "\n",
      "\n",
      "\n",
      "\n",
      "\n",
      "\n",
      "\n",
      "<head>\n",
      "\t\t\n",
      "\t\n",
      "\t\n",
      "\t\n",
      "\t\n",
      "\t\n",
      "\t\n",
      "\t\n",
      "\n",
      "\t<me\n"
     ]
    }
   ],
   "source": [
    "print(res.text[:100])"
   ]
  },
  {
   "cell_type": "code",
   "execution_count": null,
   "metadata": {},
   "outputs": [],
   "source": []
  }
 ],
 "metadata": {
  "kernelspec": {
   "display_name": "Python 3",
   "language": "python",
   "name": "python3"
  },
  "language_info": {
   "codemirror_mode": {
    "name": "ipython",
    "version": 3
   },
   "file_extension": ".py",
   "mimetype": "text/x-python",
   "name": "python",
   "nbconvert_exporter": "python",
   "pygments_lexer": "ipython3",
   "version": "3.8.5"
  }
 },
 "nbformat": 4,
 "nbformat_minor": 4
}
