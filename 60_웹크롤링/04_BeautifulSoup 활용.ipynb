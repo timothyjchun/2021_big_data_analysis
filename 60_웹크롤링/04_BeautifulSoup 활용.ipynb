{
 "cells": [
  {
   "cell_type": "markdown",
   "metadata": {},
   "source": [
    "# 4.BeautifulSoup 활용\n",
    "* 멜론사이트 크롤링하기\n",
    "* 노래제목, 가수명, 앨범명, 좋아요 개수 추출"
   ]
  },
  {
   "cell_type": "code",
   "execution_count": 1,
   "metadata": {},
   "outputs": [],
   "source": [
    "from bs4 import BeautifulSoup\n",
    "import requests\n",
    "import pandas as pd"
   ]
  },
  {
   "cell_type": "code",
   "execution_count": 2,
   "metadata": {},
   "outputs": [
    {
     "data": {
      "text/plain": [
       "<Response [200]>"
      ]
     },
     "execution_count": 2,
     "metadata": {},
     "output_type": "execute_result"
    }
   ],
   "source": [
    "url = 'https://www.melon.com/chart/index.htm'\n",
    "headers = {\n",
    "    'user-agent':'Mozilla/5.0 (Macintosh; Intel Mac OS X 10_15_7) AppleWebKit/605.1.15 (KHTML, like Gecko) Version/14.1.2 Safari/605.1.15'\n",
    "}\n",
    "res = requests.get(url, headers = headers)\n",
    "res"
   ]
  },
  {
   "cell_type": "code",
   "execution_count": 3,
   "metadata": {},
   "outputs": [],
   "source": [
    "soup = BeautifulSoup(res.text)"
   ]
  },
  {
   "cell_type": "markdown",
   "metadata": {},
   "source": [
    "### 노래 제목 추출"
   ]
  },
  {
   "cell_type": "code",
   "execution_count": null,
   "metadata": {},
   "outputs": [],
   "source": [
    "songs = soup.select('.ellipsis.rank01')\n",
    "for song in songs:\n",
    "    print(song.text)"
   ]
  },
  {
   "cell_type": "code",
   "execution_count": 5,
   "metadata": {},
   "outputs": [
    {
     "name": "stdout",
     "output_type": "stream",
     "text": [
      "['STAY', '신호등', 'Next Level', '바라만 본다', 'Queendom', 'OHAYO MY NIGHT', 'Weekend', 'Permission to Dance', '낙하 (with 아이유)', 'DUMB DUMB', 'Butter', '좋아좋아', '헤픈 우연', 'Peaches (Feat. Daniel Caesar & Giveon)', '시간을 거슬러 (낮에 뜨는 달 X 케이윌)', 'Bad Habits', 'Dynamite', '이제 나만 믿어요', '비와 당신', '다정히 내 이름을 부르면', '비가 오는 날엔 (2021)', '색안경 (STEREOTYPE)', 'Dun Dun Dance', \"롤린 (Rollin')\", 'ASAP', '라일락', 'Celebrity', '별빛 같은 나의 사랑아', '고백', '사이렌 Remix (Feat. UNEDUCATED KID, Paul Blanco)', 'HERO', '하루만 더', '그대라는 사치', 'Savage Love (Laxed - Siren Beat) (BTS Remix)', '치맛바람 (Chi Mat Ba Ram)', 'Alcohol-Free', '다시 사랑한다면 (김필 Ver.)', '안녕 (Hello)', '밝게 빛나는 별이 되어 비춰줄게', '작은 것들을 위한 시 (Boy With Luv) (Feat. Halsey)', '끝사랑', '내 손을 잡아', 'Bk Love', 'Off My Face', '운전만해 (We Ride)', '가을 우체국 앞에서', '봄날', '비 오는 날 듣기 좋은 노래 (Feat. Colde)', '잊었니', '멜로디', 'Lovesick Girls', '밤하늘의 별을(2020)', '여전히 아름다운지', '추억은 만남보다 이별에 남아', 'Life Goes On', '어떻게 이별까지 사랑하겠어, 널 사랑하는 거지', 'Timeless', '나를 아는 사람', '상상더하기', '아로하', 'Blueming', '미워요', '어푸 (Ah puh)', '모든 날, 모든 순간 (Every day, Every Moment)', '잠이 오질 않네요', '취기를 빌려 (취향저격 그녀 X 산들)', '그날에 나는 맘이 편했을까', '사랑의 아픔 딛고', '가까운 듯 먼 그대여', '에잇(Prod.&Feat. SUGA of BTS)', '계단말고 엘리베이터', '2002', 'Dolphin', '12:45 (Stripped)', 'METEOR', '상상더하기', '오래된 노래', '오늘은 가지마 (2021)', '너의 번호를 누르고 (Prod. 영화처럼)', '흔들리는 꽃들 속에서 네 샴푸향이 느껴진거야', '고백', 'LOVE DAY (2021) (바른연애 길잡이 X 양요섭, 정은지)', '목로주점', '나랑 같이 걸을래 (바른연애 길잡이 X 적재)', '사실 나는 (Feat.전건호)', '이젠 잊기로 해요 (Drama Ver.)', 'VVS (Feat. JUSTHIS) (Prod. GroovyRoom)', '라라라', '어떻게 지내 (Prod. By VAN.C)', '오늘도 빛나는 너에게 (To You My Light) (Feat.이라온)', '허리춤', 'Memories', 'Coin', '고백', '슈퍼스타', 'On The Ground', '넌 좋은 사람', '회상', '사진을 보다가', '담아 갈게']\n"
     ]
    }
   ],
   "source": [
    "title = []\n",
    "for song in songs:\n",
    "    title.append(song.find('a').get_text())\n",
    "print(title)"
   ]
  },
  {
   "cell_type": "markdown",
   "metadata": {},
   "source": [
    "### 가수 추출"
   ]
  },
  {
   "cell_type": "code",
   "execution_count": 6,
   "metadata": {},
   "outputs": [
    {
     "data": {
      "text/plain": [
       "['The Kid LAROI',\n",
       " '이무진',\n",
       " 'aespa',\n",
       " 'MSG워너비(M.O.M)',\n",
       " 'Red Velvet (레드벨벳)',\n",
       " '디핵 (D-Hack)',\n",
       " '태연 (TAEYEON)',\n",
       " '방탄소년단',\n",
       " 'AKMU (악뮤)',\n",
       " '전소미',\n",
       " '방탄소년단',\n",
       " '조정석',\n",
       " '헤이즈 (Heize)',\n",
       " 'Justin Bieber',\n",
       " '케이윌',\n",
       " 'Ed Sheeran',\n",
       " '방탄소년단',\n",
       " '임영웅',\n",
       " '이무진',\n",
       " '경서예지',\n",
       " '헤이즈 (Heize)',\n",
       " 'STAYC(스테이씨)',\n",
       " '오마이걸 (OH MY GIRL)',\n",
       " '브레이브걸스',\n",
       " 'STAYC(스테이씨)',\n",
       " '아이유',\n",
       " '아이유',\n",
       " '임영웅',\n",
       " '멜로망스',\n",
       " '호미들',\n",
       " '임영웅',\n",
       " '빅마마',\n",
       " '임영웅',\n",
       " 'Jawsh 685',\n",
       " '브레이브걸스',\n",
       " 'TWICE (트와이스)',\n",
       " '임영웅',\n",
       " '조이 (JOY)',\n",
       " '송이한',\n",
       " '방탄소년단',\n",
       " '임영웅',\n",
       " '아이유',\n",
       " '임영웅',\n",
       " 'Justin Bieber',\n",
       " '브레이브걸스',\n",
       " '김대명',\n",
       " '방탄소년단',\n",
       " '에픽하이 (EPIK HIGH)',\n",
       " '임영웅',\n",
       " 'ASH ISLAND',\n",
       " 'BLACKPINK',\n",
       " '경서',\n",
       " '세븐틴',\n",
       " '정동하',\n",
       " '방탄소년단',\n",
       " 'AKMU (악뮤)',\n",
       " 'SG 워너비',\n",
       " 'MSG워너비(정상동기)',\n",
       " '라붐 (LABOUM)',\n",
       " '조정석',\n",
       " '아이유',\n",
       " '임영웅',\n",
       " '아이유',\n",
       " '폴킴',\n",
       " '장범준',\n",
       " '산들',\n",
       " '이예준',\n",
       " '임영웅',\n",
       " '카더가든',\n",
       " '아이유',\n",
       " '임영웅',\n",
       " 'Anne-Marie',\n",
       " '오마이걸 (OH MY GIRL)',\n",
       " 'Etham',\n",
       " '창모 (CHANGMO)',\n",
       " 'MSG워너비 TOP 8 (별루지, 김정수, 강창모, 정기석, 이동휘, 이상이, 박재정, 원슈타인)',\n",
       " '스탠딩 에그',\n",
       " '환희',\n",
       " '#안녕',\n",
       " '장범준',\n",
       " '10CM',\n",
       " '양요섭',\n",
       " '임영웅',\n",
       " '적재',\n",
       " '경서예지',\n",
       " '미도와 파라솔',\n",
       " '미란이 (Mirani)',\n",
       " 'SG 워너비',\n",
       " '오반 (OVAN)',\n",
       " '마크툽 (MAKTUB)',\n",
       " '오반 (OVAN)',\n",
       " 'Maroon 5',\n",
       " '아이유',\n",
       " '장범준',\n",
       " '미도와 파라솔',\n",
       " '로제 (ROSÉ)',\n",
       " 'SG 워너비',\n",
       " '정경호',\n",
       " '다비치',\n",
       " '이무진']"
      ]
     },
     "execution_count": 6,
     "metadata": {},
     "output_type": "execute_result"
    }
   ],
   "source": [
    "singers = soup.select('.ellipsis.rank02')\n",
    "singer_name = []\n",
    "for singer in singers:\n",
    "    singer_name.append(singer.find('a').get_text())\n",
    "singer_name"
   ]
  },
  {
   "cell_type": "markdown",
   "metadata": {},
   "source": [
    "### 앨범 추출"
   ]
  },
  {
   "cell_type": "code",
   "execution_count": 7,
   "metadata": {},
   "outputs": [
    {
     "data": {
      "text/plain": [
       "['Stay',\n",
       " '신호등',\n",
       " 'Next Level',\n",
       " 'MSG워너비 1집',\n",
       " 'Queendom - The 6th Mini Album',\n",
       " 'OHAYO MY NIGHT',\n",
       " 'Weekend',\n",
       " 'Butter / Permission to Dance',\n",
       " 'NEXT EPISODE',\n",
       " 'DUMB DUMB',\n",
       " 'Butter',\n",
       " '슬기로운 의사생활 시즌2 OST Part 5',\n",
       " 'HAPPEN',\n",
       " 'Justice',\n",
       " '시간을 거슬러 (낮에 뜨는 달 X 케이윌)',\n",
       " 'Visiting Hours',\n",
       " 'Dynamite (DayTime Version)',\n",
       " '내일은 미스터트롯 우승자 특전곡',\n",
       " '슬기로운 의사생활 시즌2 OST Part 1',\n",
       " '다정히 내 이름을 부르면 (경서예지 x 전건호)',\n",
       " '비가 오는 날엔 (2021)',\n",
       " 'STEREOTYPE',\n",
       " 'Dear OHMYGIRL',\n",
       " \"Rollin'\",\n",
       " 'STAYDOM',\n",
       " \"IU 5th Album 'LILAC'\",\n",
       " \"IU 5th Album 'LILAC'\",\n",
       " '별빛 같은 나의 사랑아',\n",
       " \"세 번째 '고백'\",\n",
       " '사이렌 Remix',\n",
       " 'HERO',\n",
       " '하루만 더',\n",
       " '사랑의 콜센타 PART62',\n",
       " 'Savage Love (Laxed - Siren Beat) [BTS Remix]',\n",
       " 'Summer Queen',\n",
       " 'Taste of Love',\n",
       " '사랑의 콜센타 PART56',\n",
       " '안녕 (Hello) - Special Album',\n",
       " '밝게 빛나는 별이 되어 비춰줄게',\n",
       " 'MAP OF THE SOUL : PERSONA',\n",
       " '사랑의 콜센타 PART61',\n",
       " '최고의 사랑 OST Part.4',\n",
       " '뽕숭아학당 PART23',\n",
       " 'Justice',\n",
       " 'We Ride',\n",
       " '슬기로운 의사생활 시즌2 OST Part 2',\n",
       " 'YOU NEVER WALK ALONE',\n",
       " '비 오는 날 듣기 좋은 노래',\n",
       " '사랑의 콜센타 PART60',\n",
       " '멜로디',\n",
       " 'THE ALBUM',\n",
       " '밤하늘의 별을(2020)',\n",
       " '슬기로운 의사생활 시즌2 OST Part 8',\n",
       " '추억은 만남보다 이별에 남아',\n",
       " 'BE',\n",
       " '항해',\n",
       " 'Sg Wanna Be+',\n",
       " 'MSG워너비 1집',\n",
       " 'Fresh Adventure',\n",
       " '슬기로운 의사생활 OST Part 3',\n",
       " 'Love poem',\n",
       " '미워요 / 소나기',\n",
       " \"IU 5th Album 'LILAC'\",\n",
       " \"'키스 먼저 할까요?' OST Part.3\",\n",
       " '잠이 오질 않네요',\n",
       " '취기를 빌려 (취향저격 그녀 X 산들)',\n",
       " '그날에 나는 맘이 편했을까',\n",
       " '사랑의 콜센타 PART65',\n",
       " '가까운 듯 먼 그대여',\n",
       " '에잇',\n",
       " '계단말고 엘리베이터',\n",
       " 'Speak Your Mind (Deluxe)',\n",
       " 'NONSTOP',\n",
       " '12:45 (Stripped)',\n",
       " 'Boyhood',\n",
       " 'MSG워너비 TOP 8 경연곡',\n",
       " '오래된 노래',\n",
       " '오늘은 가지마 (2021)',\n",
       " '너의 번호를 누르고',\n",
       " '멜로가 체질 OST Part 3',\n",
       " \"두 번째 '고백'\",\n",
       " 'LOVE DAY (2021) (바른연애 길잡이 X 양요섭, 정은지)',\n",
       " '사랑의 콜센타 PART50',\n",
       " '나랑 같이 걸을래 (바른연애 길잡이 X 적재)',\n",
       " '사실 나는',\n",
       " '슬기로운 의사생활 시즌2 OST Special',\n",
       " '쇼미더머니 9 Episode 1',\n",
       " 'My Friend',\n",
       " '어떻게 지내',\n",
       " 'Red Moon : To You My Light',\n",
       " '허리춤',\n",
       " 'JORDI (Deluxe)',\n",
       " \"IU 5th Album 'LILAC'\",\n",
       " \"첫 번째 '고백'\",\n",
       " '슬기로운 의사생활 시즌2 OST Part 6',\n",
       " 'R',\n",
       " '넌 좋은 사람',\n",
       " '슬기로운 의사생활 시즌2 OST Part 9',\n",
       " '사진을 보다가 (REVIBE Vol.2)',\n",
       " '담아 갈게']"
      ]
     },
     "execution_count": 7,
     "metadata": {},
     "output_type": "execute_result"
    }
   ],
   "source": [
    "albums = soup.select('.ellipsis.rank03')\n",
    "name = []\n",
    "for album in albums:\n",
    "    name.append(album.find('a').get_text())\n",
    "name"
   ]
  },
  {
   "cell_type": "markdown",
   "metadata": {},
   "source": [
    "### 좋아요 건수"
   ]
  },
  {
   "cell_type": "code",
   "execution_count": 8,
   "metadata": {},
   "outputs": [
    {
     "data": {
      "text/plain": [
       "'33658563,33480898,33487342,33625988,33805289,32698101,33655994,33666269,33725775,33749109,33507137,33691794,33503722,33359317,33878014,33623210,32872978,32508053,33589488,33496587,33759183,33902950,33464805,30287019,33397561,33372781,33239419,33337651,33868791,33359725,33036660,33618271,33652821,32962258,33589260,33559180,33514925,33527705,33167063,31737197,33630420,3414749,33599821,33359309,32860397,33618864,30244931,33632153,33606505,33315511,32961718,33061995,33800786,33248758,33077234,32061975,1944399,33625989,8130796,32491274,32183386,8302665,33372788,30962526,33013877,32794652,33107649,33728859,33855085,32578498,31254010,31029291,32559782,31509376,32224272,33510307,3894276,33884059,32224166,32003395,33772329,33331004,33408084,33011180,32525311,33742378,33077590,1854856,32438894,31853557,33601086,32055419,33372783,33699116,33716984,33346446,33692354,33825315,33812065,33858616'"
      ]
     },
     "execution_count": 8,
     "metadata": {},
     "output_type": "execute_result"
    }
   ],
   "source": [
    "songs = soup.select('.button_etc.like')\n",
    "params = ''\n",
    "for song in songs:\n",
    "    params+=song['data-song-no']+','\n",
    "params = params[:-1]\n",
    "params"
   ]
  },
  {
   "cell_type": "code",
   "execution_count": 9,
   "metadata": {},
   "outputs": [
    {
     "data": {
      "text/plain": [
       "'https://www.melon.com/commonlike/getSongLike.json?contsIds=33658563,33480898,33487342,33625988,33805289,32698101,33655994,33666269,33725775,33749109,33507137,33691794,33503722,33359317,33878014,33623210,32872978,32508053,33589488,33496587,33759183,33902950,33464805,30287019,33397561,33372781,33239419,33337651,33868791,33359725,33036660,33618271,33652821,32962258,33589260,33559180,33514925,33527705,33167063,31737197,33630420,3414749,33599821,33359309,32860397,33618864,30244931,33632153,33606505,33315511,32961718,33061995,33800786,33248758,33077234,32061975,1944399,33625989,8130796,32491274,32183386,8302665,33372788,30962526,33013877,32794652,33107649,33728859,33855085,32578498,31254010,31029291,32559782,31509376,32224272,33510307,3894276,33884059,32224166,32003395,33772329,33331004,33408084,33011180,32525311,33742378,33077590,1854856,32438894,31853557,33601086,32055419,33372783,33699116,33716984,33346446,33692354,33825315,33812065,33858616'"
      ]
     },
     "execution_count": 9,
     "metadata": {},
     "output_type": "execute_result"
    }
   ],
   "source": [
    "url = 'https://www.melon.com/commonlike/getSongLike.json?contsIds=' + params\n",
    "url"
   ]
  },
  {
   "cell_type": "code",
   "execution_count": 10,
   "metadata": {},
   "outputs": [
    {
     "name": "stdout",
     "output_type": "stream",
     "text": [
      "[116134, 198687, 198756, 150902, 81392, 115649, 127686, 168215, 110777, 60207, 240310, 62761, 147937, 195098, 22286, 59893, 422136, 134727, 81111, 45666, 40614, 21681, 140483, 287441, 122908, 214163, 298013, 60995, 18107, 108356, 61387, 44726, 22768, 184745, 91745, 73904, 27241, 107168, 93523, 428152, 23074, 166728, 23348, 72604, 128992, 39107, 547646, 57500, 22204, 105881, 200465, 162765, 40241, 58550, 225458, 359819, 102538, 68740, 122777, 226664, 316568, 48101, 98768, 374717, 146994, 199244, 62731, 16772, 17239, 366041, 51491, 367947, 190808, 148365, 269298, 62075, 234055, 5725, 86819, 292504, 27475, 100458, 19276, 112150, 81728, 22786, 189510, 84740, 166882, 244263, 32627, 175628, 102827, 24974, 34024, 139991, 30424, 16446, 9779, 13881]\n"
     ]
    }
   ],
   "source": [
    "res = requests.get(url, headers = headers)\n",
    "likes = []\n",
    "for i in res.json()['contsLike']:\n",
    "    likes.append(i['SUMMCNT'])\n",
    "print(likes)"
   ]
  },
  {
   "cell_type": "code",
   "execution_count": 11,
   "metadata": {},
   "outputs": [
    {
     "data": {
      "text/html": [
       "<div>\n",
       "<style scoped>\n",
       "    .dataframe tbody tr th:only-of-type {\n",
       "        vertical-align: middle;\n",
       "    }\n",
       "\n",
       "    .dataframe tbody tr th {\n",
       "        vertical-align: top;\n",
       "    }\n",
       "\n",
       "    .dataframe thead th {\n",
       "        text-align: right;\n",
       "    }\n",
       "</style>\n",
       "<table border=\"1\" class=\"dataframe\">\n",
       "  <thead>\n",
       "    <tr style=\"text-align: right;\">\n",
       "      <th></th>\n",
       "      <th>title</th>\n",
       "      <th>singer</th>\n",
       "      <th>album</th>\n",
       "      <th>like</th>\n",
       "    </tr>\n",
       "  </thead>\n",
       "  <tbody>\n",
       "    <tr>\n",
       "      <th>0</th>\n",
       "      <td>STAY</td>\n",
       "      <td>The Kid LAROI</td>\n",
       "      <td>Stay</td>\n",
       "      <td>116134</td>\n",
       "    </tr>\n",
       "    <tr>\n",
       "      <th>1</th>\n",
       "      <td>신호등</td>\n",
       "      <td>이무진</td>\n",
       "      <td>신호등</td>\n",
       "      <td>198687</td>\n",
       "    </tr>\n",
       "    <tr>\n",
       "      <th>2</th>\n",
       "      <td>Next Level</td>\n",
       "      <td>aespa</td>\n",
       "      <td>Next Level</td>\n",
       "      <td>198756</td>\n",
       "    </tr>\n",
       "    <tr>\n",
       "      <th>3</th>\n",
       "      <td>바라만 본다</td>\n",
       "      <td>MSG워너비(M.O.M)</td>\n",
       "      <td>MSG워너비 1집</td>\n",
       "      <td>150902</td>\n",
       "    </tr>\n",
       "    <tr>\n",
       "      <th>4</th>\n",
       "      <td>Queendom</td>\n",
       "      <td>Red Velvet (레드벨벳)</td>\n",
       "      <td>Queendom - The 6th Mini Album</td>\n",
       "      <td>81392</td>\n",
       "    </tr>\n",
       "    <tr>\n",
       "      <th>...</th>\n",
       "      <td>...</td>\n",
       "      <td>...</td>\n",
       "      <td>...</td>\n",
       "      <td>...</td>\n",
       "    </tr>\n",
       "    <tr>\n",
       "      <th>95</th>\n",
       "      <td>On The Ground</td>\n",
       "      <td>로제 (ROSÉ)</td>\n",
       "      <td>R</td>\n",
       "      <td>139991</td>\n",
       "    </tr>\n",
       "    <tr>\n",
       "      <th>96</th>\n",
       "      <td>넌 좋은 사람</td>\n",
       "      <td>SG 워너비</td>\n",
       "      <td>넌 좋은 사람</td>\n",
       "      <td>30424</td>\n",
       "    </tr>\n",
       "    <tr>\n",
       "      <th>97</th>\n",
       "      <td>회상</td>\n",
       "      <td>정경호</td>\n",
       "      <td>슬기로운 의사생활 시즌2 OST Part 9</td>\n",
       "      <td>16446</td>\n",
       "    </tr>\n",
       "    <tr>\n",
       "      <th>98</th>\n",
       "      <td>사진을 보다가</td>\n",
       "      <td>다비치</td>\n",
       "      <td>사진을 보다가 (REVIBE Vol.2)</td>\n",
       "      <td>9779</td>\n",
       "    </tr>\n",
       "    <tr>\n",
       "      <th>99</th>\n",
       "      <td>담아 갈게</td>\n",
       "      <td>이무진</td>\n",
       "      <td>담아 갈게</td>\n",
       "      <td>13881</td>\n",
       "    </tr>\n",
       "  </tbody>\n",
       "</table>\n",
       "<p>100 rows × 4 columns</p>\n",
       "</div>"
      ],
      "text/plain": [
       "            title             singer                          album    like\n",
       "0            STAY      The Kid LAROI                           Stay  116134\n",
       "1             신호등                이무진                            신호등  198687\n",
       "2      Next Level              aespa                     Next Level  198756\n",
       "3          바라만 본다      MSG워너비(M.O.M)                      MSG워너비 1집  150902\n",
       "4        Queendom  Red Velvet (레드벨벳)  Queendom - The 6th Mini Album   81392\n",
       "..            ...                ...                            ...     ...\n",
       "95  On The Ground          로제 (ROSÉ)                              R  139991\n",
       "96        넌 좋은 사람             SG 워너비                        넌 좋은 사람   30424\n",
       "97             회상                정경호       슬기로운 의사생활 시즌2 OST Part 9   16446\n",
       "98        사진을 보다가                다비치         사진을 보다가 (REVIBE Vol.2)    9779\n",
       "99          담아 갈게                이무진                          담아 갈게   13881\n",
       "\n",
       "[100 rows x 4 columns]"
      ]
     },
     "execution_count": 11,
     "metadata": {},
     "output_type": "execute_result"
    }
   ],
   "source": [
    "#제목, 가수, 앨범, 좋아요로 dataframe 생성\n",
    "df_data = {\n",
    "    'title': title,\n",
    "    'singer': singer_name,\n",
    "    'album' : name,\n",
    "    'like': likes\n",
    "}\n",
    "df = pd.DataFrame(data = df_data)\n",
    "df"
   ]
  },
  {
   "cell_type": "code",
   "execution_count": null,
   "metadata": {},
   "outputs": [],
   "source": []
  }
 ],
 "metadata": {
  "kernelspec": {
   "display_name": "Python 3",
   "language": "python",
   "name": "python3"
  },
  "language_info": {
   "codemirror_mode": {
    "name": "ipython",
    "version": 3
   },
   "file_extension": ".py",
   "mimetype": "text/x-python",
   "name": "python",
   "nbconvert_exporter": "python",
   "pygments_lexer": "ipython3",
   "version": "3.8.5"
  }
 },
 "nbformat": 4,
 "nbformat_minor": 4
}
