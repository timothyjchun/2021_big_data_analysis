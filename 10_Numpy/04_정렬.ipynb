{
 "cells": [
  {
   "cell_type": "markdown",
   "metadata": {},
   "source": [
    "# 4.정렬"
   ]
  },
  {
   "cell_type": "markdown",
   "metadata": {},
   "source": [
    "## 4-1 1차원 정렬"
   ]
  },
  {
   "cell_type": "code",
   "execution_count": 1,
   "metadata": {},
   "outputs": [],
   "source": [
    "import numpy as np"
   ]
  },
  {
   "cell_type": "code",
   "execution_count": 2,
   "metadata": {},
   "outputs": [
    {
     "data": {
      "text/plain": [
       "array([9, 9, 4, 8, 8, 1, 5, 3, 6, 3])"
      ]
     },
     "execution_count": 2,
     "metadata": {},
     "output_type": "execute_result"
    }
   ],
   "source": [
    "np.random.seed(100)\n",
    "arr = np.random.randint(1,10, size = 10) #1~9, 10개\n",
    "arr"
   ]
  },
  {
   "cell_type": "code",
   "execution_count": 3,
   "metadata": {},
   "outputs": [
    {
     "data": {
      "text/plain": [
       "array([1, 3, 3, 4, 5, 6, 8, 8, 9, 9])"
      ]
     },
     "execution_count": 3,
     "metadata": {},
     "output_type": "execute_result"
    }
   ],
   "source": [
    "#오름차순 정렬\n",
    "#원본을 바꾸는건 아님!\n",
    "b = np.sort(arr)\n",
    "b"
   ]
  },
  {
   "cell_type": "code",
   "execution_count": 4,
   "metadata": {},
   "outputs": [
    {
     "data": {
      "text/plain": [
       "array([9, 9, 8, 8, 6, 5, 4, 3, 3, 1])"
      ]
     },
     "execution_count": 4,
     "metadata": {},
     "output_type": "execute_result"
    }
   ],
   "source": [
    "#내림 차순\n",
    "c = np.sort(arr)\n",
    "c[::-1]"
   ]
  },
  {
   "cell_type": "code",
   "execution_count": 5,
   "metadata": {},
   "outputs": [
    {
     "data": {
      "text/plain": [
       "array([1, 3, 3, 4, 5, 6, 8, 8, 9, 9])"
      ]
     },
     "execution_count": 5,
     "metadata": {},
     "output_type": "execute_result"
    }
   ],
   "source": [
    "arr.sort()#이렇게 하면 원본이 바뀜! but 가급적이면 원본 훼손 X\n",
    "arr"
   ]
  },
  {
   "cell_type": "markdown",
   "metadata": {},
   "source": [
    "## 4-2 2차원 배열"
   ]
  },
  {
   "cell_type": "code",
   "execution_count": 6,
   "metadata": {},
   "outputs": [
    {
     "data": {
      "text/plain": [
       "array([[9, 9, 4, 8],\n",
       "       [8, 1, 5, 3],\n",
       "       [6, 3, 3, 3]])"
      ]
     },
     "execution_count": 6,
     "metadata": {},
     "output_type": "execute_result"
    }
   ],
   "source": [
    "np.random.seed(100)\n",
    "arr2 = np.random.randint(1,10,size = (3,4))\n",
    "arr2"
   ]
  },
  {
   "cell_type": "code",
   "execution_count": 7,
   "metadata": {},
   "outputs": [
    {
     "data": {
      "text/plain": [
       "array([[4, 8, 9, 9],\n",
       "       [1, 3, 5, 8],\n",
       "       [3, 3, 3, 6]])"
      ]
     },
     "execution_count": 7,
     "metadata": {},
     "output_type": "execute_result"
    }
   ],
   "source": [
    "np.sort(arr2) #axis=1랑 동일"
   ]
  },
  {
   "cell_type": "code",
   "execution_count": 8,
   "metadata": {},
   "outputs": [
    {
     "data": {
      "text/plain": [
       "array([[6, 1, 3, 3],\n",
       "       [8, 3, 4, 3],\n",
       "       [9, 9, 5, 8]])"
      ]
     },
     "execution_count": 8,
     "metadata": {},
     "output_type": "execute_result"
    }
   ],
   "source": [
    "np.sort(arr2, axis =0)"
   ]
  },
  {
   "cell_type": "code",
   "execution_count": 9,
   "metadata": {},
   "outputs": [
    {
     "data": {
      "text/plain": [
       "array([[4, 8, 9, 9],\n",
       "       [1, 3, 5, 8],\n",
       "       [3, 3, 3, 6]])"
      ]
     },
     "execution_count": 9,
     "metadata": {},
     "output_type": "execute_result"
    }
   ],
   "source": [
    "arr2.sort(axis = 1)\n",
    "arr2"
   ]
  },
  {
   "cell_type": "code",
   "execution_count": 10,
   "metadata": {},
   "outputs": [
    {
     "data": {
      "text/plain": [
       "array([[1, 0, 3, 2],\n",
       "       [0, 2, 3, 1],\n",
       "       [0, 2, 3, 1]])"
      ]
     },
     "execution_count": 10,
     "metadata": {},
     "output_type": "execute_result"
    }
   ],
   "source": [
    "# index리턴하는 정렬함수: argsort\n",
    "arr3 = np.random.randint(1,10,size = (3,4))\n",
    "np.argsort(arr3) #axis =1 "
   ]
  },
  {
   "cell_type": "code",
   "execution_count": 11,
   "metadata": {},
   "outputs": [
    {
     "data": {
      "text/plain": [
       "array([[1, 0, 3, 2],\n",
       "       [0, 2, 3, 1],\n",
       "       [0, 2, 3, 1]])"
      ]
     },
     "execution_count": 11,
     "metadata": {},
     "output_type": "execute_result"
    }
   ],
   "source": [
    "np.argsort(arr3, axis = 1)"
   ]
  },
  {
   "cell_type": "code",
   "execution_count": 1,
   "metadata": {},
   "outputs": [
    {
     "data": {
      "text/plain": [
       "\u001b[0;31mSignature:\u001b[0m \u001b[0mnp\u001b[0m\u001b[0;34m.\u001b[0m\u001b[0margsort\u001b[0m\u001b[0;34m(\u001b[0m\u001b[0ma\u001b[0m\u001b[0;34m,\u001b[0m \u001b[0maxis\u001b[0m\u001b[0;34m=\u001b[0m\u001b[0;34m-\u001b[0m\u001b[0;36m1\u001b[0m\u001b[0;34m,\u001b[0m \u001b[0mkind\u001b[0m\u001b[0;34m=\u001b[0m\u001b[0;32mNone\u001b[0m\u001b[0;34m,\u001b[0m \u001b[0morder\u001b[0m\u001b[0;34m=\u001b[0m\u001b[0;32mNone\u001b[0m\u001b[0;34m)\u001b[0m\u001b[0;34m\u001b[0m\u001b[0;34m\u001b[0m\u001b[0m\n",
       "\u001b[0;31mDocstring:\u001b[0m\n",
       "Returns the indices that would sort an array.\n",
       "\n",
       "Perform an indirect sort along the given axis using the algorithm specified\n",
       "by the `kind` keyword. It returns an array of indices of the same shape as\n",
       "`a` that index data along the given axis in sorted order.\n",
       "\n",
       "Parameters\n",
       "----------\n",
       "a : array_like\n",
       "    Array to sort.\n",
       "axis : int or None, optional\n",
       "    Axis along which to sort.  The default is -1 (the last axis). If None,\n",
       "    the flattened array is used.\n",
       "kind : {'quicksort', 'mergesort', 'heapsort', 'stable'}, optional\n",
       "    Sorting algorithm. The default is 'quicksort'. Note that both 'stable'\n",
       "    and 'mergesort' use timsort under the covers and, in general, the\n",
       "    actual implementation will vary with data type. The 'mergesort' option\n",
       "    is retained for backwards compatibility.\n",
       "\n",
       "    .. versionchanged:: 1.15.0.\n",
       "       The 'stable' option was added.\n",
       "order : str or list of str, optional\n",
       "    When `a` is an array with fields defined, this argument specifies\n",
       "    which fields to compare first, second, etc.  A single field can\n",
       "    be specified as a string, and not all fields need be specified,\n",
       "    but unspecified fields will still be used, in the order in which\n",
       "    they come up in the dtype, to break ties.\n",
       "\n",
       "Returns\n",
       "-------\n",
       "index_array : ndarray, int\n",
       "    Array of indices that sort `a` along the specified `axis`.\n",
       "    If `a` is one-dimensional, ``a[index_array]`` yields a sorted `a`.\n",
       "    More generally, ``np.take_along_axis(a, index_array, axis=axis)``\n",
       "    always yields the sorted `a`, irrespective of dimensionality.\n",
       "\n",
       "See Also\n",
       "--------\n",
       "sort : Describes sorting algorithms used.\n",
       "lexsort : Indirect stable sort with multiple keys.\n",
       "ndarray.sort : Inplace sort.\n",
       "argpartition : Indirect partial sort.\n",
       "take_along_axis : Apply ``index_array`` from argsort\n",
       "                  to an array as if by calling sort.\n",
       "\n",
       "Notes\n",
       "-----\n",
       "See `sort` for notes on the different sorting algorithms.\n",
       "\n",
       "As of NumPy 1.4.0 `argsort` works with real/complex arrays containing\n",
       "nan values. The enhanced sort order is documented in `sort`.\n",
       "\n",
       "Examples\n",
       "--------\n",
       "One dimensional array:\n",
       "\n",
       ">>> x = np.array([3, 1, 2])\n",
       ">>> np.argsort(x)\n",
       "array([1, 2, 0])\n",
       "\n",
       "Two-dimensional array:\n",
       "\n",
       ">>> x = np.array([[0, 3], [2, 2]])\n",
       ">>> x\n",
       "array([[0, 3],\n",
       "       [2, 2]])\n",
       "\n",
       ">>> ind = np.argsort(x, axis=0)  # sorts along first axis (down)\n",
       ">>> ind\n",
       "array([[0, 1],\n",
       "       [1, 0]])\n",
       ">>> np.take_along_axis(x, ind, axis=0)  # same as np.sort(x, axis=0)\n",
       "array([[0, 2],\n",
       "       [2, 3]])\n",
       "\n",
       ">>> ind = np.argsort(x, axis=1)  # sorts along last axis (across)\n",
       ">>> ind\n",
       "array([[0, 1],\n",
       "       [0, 1]])\n",
       ">>> np.take_along_axis(x, ind, axis=1)  # same as np.sort(x, axis=1)\n",
       "array([[0, 3],\n",
       "       [2, 2]])\n",
       "\n",
       "Indices of the sorted elements of a N-dimensional array:\n",
       "\n",
       ">>> ind = np.unravel_index(np.argsort(x, axis=None), x.shape)\n",
       ">>> ind\n",
       "(array([0, 1, 1, 0]), array([0, 0, 1, 1]))\n",
       ">>> x[ind]  # same as np.sort(x, axis=None)\n",
       "array([0, 2, 2, 3])\n",
       "\n",
       "Sorting with keys:\n",
       "\n",
       ">>> x = np.array([(1, 0), (0, 1)], dtype=[('x', '<i4'), ('y', '<i4')])\n",
       ">>> x\n",
       "array([(1, 0), (0, 1)],\n",
       "      dtype=[('x', '<i4'), ('y', '<i4')])\n",
       "\n",
       ">>> np.argsort(x, order=('x','y'))\n",
       "array([1, 0])\n",
       "\n",
       ">>> np.argsort(x, order=('y','x'))\n",
       "array([0, 1])\n",
       "\u001b[0;31mFile:\u001b[0m      ~/opt/anaconda3/lib/python3.8/site-packages/numpy/core/fromnumeric.py\n",
       "\u001b[0;31mType:\u001b[0m      function\n"
      ]
     },
     "metadata": {},
     "output_type": "display_data"
    }
   ],
   "source": [
    "import numpy as np\n",
    "np.argsort?"
   ]
  },
  {
   "cell_type": "code",
   "execution_count": null,
   "metadata": {},
   "outputs": [],
   "source": []
  }
 ],
 "metadata": {
  "kernelspec": {
   "display_name": "Python 3",
   "language": "python",
   "name": "python3"
  },
  "language_info": {
   "codemirror_mode": {
    "name": "ipython",
    "version": 3
   },
   "file_extension": ".py",
   "mimetype": "text/x-python",
   "name": "python",
   "nbconvert_exporter": "python",
   "pygments_lexer": "ipython3",
   "version": "3.8.5"
  }
 },
 "nbformat": 4,
 "nbformat_minor": 4
}
