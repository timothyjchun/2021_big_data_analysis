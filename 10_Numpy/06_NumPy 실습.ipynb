{
 "cells": [
  {
   "cell_type": "markdown",
   "metadata": {},
   "source": [
    "# 6. 실습"
   ]
  },
  {
   "cell_type": "code",
   "execution_count": 1,
   "metadata": {},
   "outputs": [],
   "source": [
    "# numpy import하기\n",
    "import numpy as np"
   ]
  },
  {
   "cell_type": "markdown",
   "metadata": {},
   "source": [
    "## 6-1. NumPy 배열 생성"
   ]
  },
  {
   "cell_type": "code",
   "execution_count": 2,
   "metadata": {},
   "outputs": [
    {
     "data": {
      "text/plain": [
       "array([1, 2, 3, 4, 5])"
      ]
     },
     "execution_count": 2,
     "metadata": {},
     "output_type": "execute_result"
    }
   ],
   "source": [
    "# np.array()로 1차원 배열 [1, 2, 3, 4, 5] 생성 후 출력하기\n",
    "np.array([1,2,3,4,5])"
   ]
  },
  {
   "cell_type": "code",
   "execution_count": 15,
   "metadata": {},
   "outputs": [
    {
     "data": {
      "text/plain": [
       "(dtype('int64'), (5,), 5, 1)"
      ]
     },
     "execution_count": 15,
     "metadata": {},
     "output_type": "execute_result"
    }
   ],
   "source": [
    "# 1차원 배열의 데이터타입, 모양, 배열 전체 element의 수, 차원의 수 출력하기\n",
    "arr = np.array([1,2,3,4,5])\n",
    "arr.dtype,arr.shape,len(arr),arr.ndim"
   ]
  },
  {
   "cell_type": "code",
   "execution_count": 21,
   "metadata": {},
   "outputs": [
    {
     "data": {
      "text/plain": [
       "array([[10, 20, 30, 40],\n",
       "       [50, 60, 70, 80]])"
      ]
     },
     "execution_count": 21,
     "metadata": {},
     "output_type": "execute_result"
    }
   ],
   "source": [
    "# np.array()로 아래 2차원 배열 생성 후 출력하기\n",
    "# [[10, 20, 30, 40],\n",
    "#  [50, 60, 70, 80]]\n",
    "np.array([10,20,30,40,50,60,70,80]).reshape(2,4)"
   ]
  },
  {
   "cell_type": "code",
   "execution_count": 22,
   "metadata": {},
   "outputs": [
    {
     "data": {
      "text/plain": [
       "array([1, 2, 3, 4, 5])"
      ]
     },
     "execution_count": 22,
     "metadata": {},
     "output_type": "execute_result"
    }
   ],
   "source": [
    "# np.arange()로 1차원 배열 [1, 2, 3, 4, 5] 생성 후 출력하기\n",
    "np.arange(1,6)"
   ]
  },
  {
   "cell_type": "code",
   "execution_count": 23,
   "metadata": {},
   "outputs": [
    {
     "data": {
      "text/plain": [
       "array([[10, 20, 30, 40],\n",
       "       [50, 60, 70, 80]])"
      ]
     },
     "execution_count": 23,
     "metadata": {},
     "output_type": "execute_result"
    }
   ],
   "source": [
    "# np.arange()로 아래 2차원 배열 생성 후 출력하기\n",
    "# [[10, 20, 30, 40],\n",
    "#  [50, 60, 70, 80]]\n",
    "np.arange(10,90,10).reshape(2,4)"
   ]
  },
  {
   "cell_type": "code",
   "execution_count": 25,
   "metadata": {},
   "outputs": [
    {
     "data": {
      "text/plain": [
       "array([[1, 3, 5, 2, 3, 1, 4, 4, 3, 3, 4, 1, 1, 3, 3, 4, 4, 5, 3, 4],\n",
       "       [1, 2, 1, 3, 1, 2, 4, 5, 4, 3, 5, 4, 2, 3, 4, 5, 1, 3, 1, 4],\n",
       "       [1, 5, 5, 2, 4, 3, 4, 5, 1, 5, 3, 3, 4, 1, 4, 4, 3, 2, 5, 1],\n",
       "       [2, 5, 2, 4, 5, 3, 5, 4, 5, 2, 4, 5, 4, 2, 5, 2, 5, 1, 2, 4],\n",
       "       [4, 2, 2, 5, 1, 1, 1, 5, 1, 1, 4, 5, 2, 2, 1, 2, 3, 5, 1, 5]])"
      ]
     },
     "execution_count": 25,
     "metadata": {},
     "output_type": "execute_result"
    }
   ],
   "source": [
    "# 주사위를 100번 던져서 나오는 숫자 배열 출력하기\n",
    "np.random.randint(1,6,size = (5,20))"
   ]
  },
  {
   "cell_type": "code",
   "execution_count": 28,
   "metadata": {},
   "outputs": [
    {
     "data": {
      "text/plain": [
       "array([[0.97215338, 0.89208114, 0.4536284 , 0.4450571 ],\n",
       "       [0.52223147, 0.88022444, 0.78806524, 0.38658406],\n",
       "       [0.03733633, 0.77254647, 0.38661029, 0.39626821]])"
      ]
     },
     "execution_count": 28,
     "metadata": {},
     "output_type": "execute_result"
    }
   ],
   "source": [
    "# np.random을 사용하여 랜덤 실수값으로 이루어진 (3, 4) 2차원 배열 생성\n",
    "np.random.rand(3,4)"
   ]
  },
  {
   "cell_type": "markdown",
   "metadata": {},
   "source": [
    "## 6-2. 산술연산"
   ]
  },
  {
   "cell_type": "code",
   "execution_count": 29,
   "metadata": {},
   "outputs": [
    {
     "data": {
      "text/plain": [
       "(array([1, 2, 3, 4, 5]), array([ 6,  7,  8,  9, 10]))"
      ]
     },
     "execution_count": 29,
     "metadata": {},
     "output_type": "execute_result"
    }
   ],
   "source": [
    "# [1, 2, 3, 4, 5], [6, 7, 8, 9, 10] 1차원 배열 2개를 생성하고 출력하기\n",
    "arr = np.arange(1,6)\n",
    "arr2 = np.arange(6,11)\n",
    "arr, arr2"
   ]
  },
  {
   "cell_type": "code",
   "execution_count": 30,
   "metadata": {},
   "outputs": [
    {
     "data": {
      "text/plain": [
       "(array([ 7,  9, 11, 13, 15]),\n",
       " array([-5, -5, -5, -5, -5]),\n",
       " array([ 6, 14, 24, 36, 50]),\n",
       " array([0.16666667, 0.28571429, 0.375     , 0.44444444, 0.5       ]))"
      ]
     },
     "execution_count": 30,
     "metadata": {},
     "output_type": "execute_result"
    }
   ],
   "source": [
    "# 1차원 배열간 산술연산(덧셈, 뺄셈, 곱셈, 나눗셈) 하기\n",
    "arr+arr2, arr-arr2, arr*arr2, arr/arr2"
   ]
  },
  {
   "cell_type": "code",
   "execution_count": 31,
   "metadata": {},
   "outputs": [
    {
     "data": {
      "text/plain": [
       "(array([[ 1,  2,  3,  4,  5],\n",
       "        [ 6,  7,  8,  9, 10]]),\n",
       " array([[11, 12, 13, 14, 15],\n",
       "        [16, 17, 18, 19, 20]]))"
      ]
     },
     "execution_count": 31,
     "metadata": {},
     "output_type": "execute_result"
    }
   ],
   "source": [
    "# [[1, 2, 3, 4, 5]   [[11, 12, 13, 14, 15]\n",
    "#  [6, 7, 8, 9, 10]], [16, 17, 18, 19, 20]] 2차원 배열 2개를 생성하고 출력하기\n",
    "arr = np.arange(1,11).reshape(2,5)\n",
    "arr2 = np.arange(11,21).reshape(2,5)\n",
    "arr, arr2"
   ]
  },
  {
   "cell_type": "code",
   "execution_count": 32,
   "metadata": {},
   "outputs": [
    {
     "data": {
      "text/plain": [
       "(array([[12, 14, 16, 18, 20],\n",
       "        [22, 24, 26, 28, 30]]),\n",
       " array([[-10, -10, -10, -10, -10],\n",
       "        [-10, -10, -10, -10, -10]]),\n",
       " array([[ 11,  24,  39,  56,  75],\n",
       "        [ 96, 119, 144, 171, 200]]),\n",
       " array([[0.09090909, 0.16666667, 0.23076923, 0.28571429, 0.33333333],\n",
       "        [0.375     , 0.41176471, 0.44444444, 0.47368421, 0.5       ]]))"
      ]
     },
     "execution_count": 32,
     "metadata": {},
     "output_type": "execute_result"
    }
   ],
   "source": [
    "# 2차원 배열간 산술연산(덧셈, 뺄셈, 나눗셈) 하기\n",
    "arr+arr2, arr-arr2, arr*arr2, arr/arr2"
   ]
  },
  {
   "cell_type": "code",
   "execution_count": 36,
   "metadata": {},
   "outputs": [
    {
     "data": {
      "text/plain": [
       "array([[11, 12],\n",
       "       [13, 14],\n",
       "       [15, 16],\n",
       "       [17, 18],\n",
       "       [19, 20]])"
      ]
     },
     "execution_count": 36,
     "metadata": {},
     "output_type": "execute_result"
    }
   ],
   "source": [
    "# 두번째 배열의 shape을 (5, 2)로 만들고 출력하기\n",
    "arr2 = arr2.reshape(5,2)\n",
    "arr2"
   ]
  },
  {
   "cell_type": "code",
   "execution_count": 37,
   "metadata": {},
   "outputs": [
    {
     "data": {
      "text/plain": [
       "array([[245, 260],\n",
       "       [620, 660]])"
      ]
     },
     "execution_count": 37,
     "metadata": {},
     "output_type": "execute_result"
    }
   ],
   "source": [
    "# 행렬곱셈(dot product) 연산하기\n",
    "np.dot(arr,arr2)"
   ]
  },
  {
   "cell_type": "markdown",
   "metadata": {},
   "source": [
    "## 6-3. Aggregation 함수"
   ]
  },
  {
   "cell_type": "code",
   "execution_count": 39,
   "metadata": {},
   "outputs": [
    {
     "data": {
      "text/plain": [
       "array([ 1,  2,  3,  4,  5,  6,  7,  8,  9, 10])"
      ]
     },
     "execution_count": 39,
     "metadata": {},
     "output_type": "execute_result"
    }
   ],
   "source": [
    "# 1~10까지 이루어진 1차원 배열 생성하기\n",
    "arr = np.arange(1,11)\n",
    "arr"
   ]
  },
  {
   "cell_type": "code",
   "execution_count": 41,
   "metadata": {},
   "outputs": [
    {
     "data": {
      "text/plain": [
       "(10, 1)"
      ]
     },
     "execution_count": 41,
     "metadata": {},
     "output_type": "execute_result"
    }
   ],
   "source": [
    "# 최대값, 최소값 출력하기\n",
    "arr.max(), arr.min()"
   ]
  },
  {
   "cell_type": "code",
   "execution_count": 46,
   "metadata": {},
   "outputs": [
    {
     "data": {
      "text/plain": [
       "(55, 5.5)"
      ]
     },
     "execution_count": 46,
     "metadata": {},
     "output_type": "execute_result"
    }
   ],
   "source": [
    "# 배열요소의 합, 평균값 출력하기\n",
    "arr.sum(), arr.mean()"
   ]
  },
  {
   "cell_type": "code",
   "execution_count": 50,
   "metadata": {},
   "outputs": [
    {
     "data": {
      "text/plain": [
       "(5.5, 2.8722813232690143)"
      ]
     },
     "execution_count": 50,
     "metadata": {},
     "output_type": "execute_result"
    }
   ],
   "source": [
    "# 중앙값(중위값), 표준편차 출력하기\n",
    "np.median(arr), np.std(arr)"
   ]
  },
  {
   "cell_type": "code",
   "execution_count": 48,
   "metadata": {},
   "outputs": [
    {
     "data": {
      "text/plain": [
       "array([[ 1,  2,  3,  4,  5],\n",
       "       [ 6,  7,  8,  9, 10],\n",
       "       [11, 12, 13, 14, 15],\n",
       "       [16, 17, 18, 19, 20]])"
      ]
     },
     "execution_count": 48,
     "metadata": {},
     "output_type": "execute_result"
    }
   ],
   "source": [
    "# 1~20까지 이루어진 2차원 배열 (4, 5) 생성하기\n",
    "arr2 = np.arange(1,21).reshape(4,5)\n",
    "arr2"
   ]
  },
  {
   "cell_type": "code",
   "execution_count": 53,
   "metadata": {},
   "outputs": [
    {
     "data": {
      "text/plain": [
       "(array([ 5, 10, 15, 20]), array([ 5, 10, 15, 20]))"
      ]
     },
     "execution_count": 53,
     "metadata": {},
     "output_type": "execute_result"
    }
   ],
   "source": [
    "# 각 행의 max값, min값 출력하기\n",
    "arr2.max(axis = 1), arr2.max(axis = 1)"
   ]
  },
  {
   "cell_type": "code",
   "execution_count": 54,
   "metadata": {},
   "outputs": [
    {
     "data": {
      "text/plain": [
       "(array([16, 17, 18, 19, 20]), array([16, 17, 18, 19, 20]))"
      ]
     },
     "execution_count": 54,
     "metadata": {},
     "output_type": "execute_result"
    }
   ],
   "source": [
    "# 각 열의 max값, min값 출력하기\n",
    "arr2.max(axis = 0), arr2.max(axis = 0)"
   ]
  },
  {
   "cell_type": "code",
   "execution_count": 55,
   "metadata": {},
   "outputs": [
    {
     "data": {
      "text/plain": [
       "array([15, 40, 65, 90])"
      ]
     },
     "execution_count": 55,
     "metadata": {},
     "output_type": "execute_result"
    }
   ],
   "source": [
    "# 각 행의 sum값 출력하기\n",
    "arr2.sum(axis = 1)"
   ]
  },
  {
   "cell_type": "code",
   "execution_count": 56,
   "metadata": {},
   "outputs": [
    {
     "data": {
      "text/plain": [
       "array([34, 38, 42, 46, 50])"
      ]
     },
     "execution_count": 56,
     "metadata": {},
     "output_type": "execute_result"
    }
   ],
   "source": [
    "# 각 열의 sum값 출력하기\n",
    "arr2.sum(axis = 0)"
   ]
  },
  {
   "cell_type": "markdown",
   "metadata": {},
   "source": [
    "## 6-4. 정렬"
   ]
  },
  {
   "cell_type": "code",
   "execution_count": 62,
   "metadata": {},
   "outputs": [
    {
     "data": {
      "text/plain": [
       "array([ 9, 25, 68, 88, 80, 49, 11, 95, 53, 99])"
      ]
     },
     "execution_count": 62,
     "metadata": {},
     "output_type": "execute_result"
    }
   ],
   "source": [
    "# 1~100까지 랜덤 정수값을 갖는 1차원 배열 (10, ) 생성하기\n",
    "# seed값 100부여하기\n",
    "np.random.seed(100)\n",
    "arr = np.random.randint(1,100,size = 10)\n",
    "arr"
   ]
  },
  {
   "cell_type": "code",
   "execution_count": 65,
   "metadata": {},
   "outputs": [
    {
     "data": {
      "text/plain": [
       "array([ 9, 11, 25, 49, 53, 68, 80, 88, 95, 99])"
      ]
     },
     "execution_count": 65,
     "metadata": {},
     "output_type": "execute_result"
    }
   ],
   "source": [
    "# 위 1차원 배열을 오름차순 정렬하기\n",
    "arr.sort()\n",
    "arr"
   ]
  },
  {
   "cell_type": "code",
   "execution_count": 68,
   "metadata": {},
   "outputs": [
    {
     "data": {
      "text/plain": [
       "array([99, 95, 88, 80, 68, 53, 49, 25, 11,  9])"
      ]
     },
     "execution_count": 68,
     "metadata": {},
     "output_type": "execute_result"
    }
   ],
   "source": [
    "# 위 1차원 배열을 내림차순 정렬하기\n",
    "arr = arr[::-1]\n",
    "arr"
   ]
  },
  {
   "cell_type": "code",
   "execution_count": 71,
   "metadata": {},
   "outputs": [
    {
     "data": {
      "text/plain": [
       "array([[ 9, 25, 68, 88, 80, 49, 11, 95, 53, 99],\n",
       "       [54, 67, 99, 15, 35, 25, 16, 61, 59, 17],\n",
       "       [10, 94, 87,  3, 28,  5, 32,  2, 14, 84],\n",
       "       [ 5, 92, 60, 68,  8, 50, 48, 66, 62, 15],\n",
       "       [56, 72, 81,  3, 95, 20, 99, 64, 54, 28]])"
      ]
     },
     "execution_count": 71,
     "metadata": {},
     "output_type": "execute_result"
    }
   ],
   "source": [
    "# 랜덤 seed값 100부여하기\n",
    "# 1~100까지 랜덤 정수값을 갖는 2차원 배열 (5, 10) 생성하기\n",
    "np.random.seed(100)\n",
    "arr2 = np.random.randint(1,100,size = 50).reshape(5,10)\n",
    "arr2"
   ]
  },
  {
   "cell_type": "code",
   "execution_count": 73,
   "metadata": {},
   "outputs": [
    {
     "data": {
      "text/plain": [
       "array([[ 5, 25, 60,  3,  8,  5, 11,  2, 14, 15],\n",
       "       [ 9, 67, 68,  3, 28, 20, 16, 61, 53, 17],\n",
       "       [10, 72, 81, 15, 35, 25, 32, 64, 54, 28],\n",
       "       [54, 92, 87, 68, 80, 49, 48, 66, 59, 84],\n",
       "       [56, 94, 99, 88, 95, 50, 99, 95, 62, 99]])"
      ]
     },
     "execution_count": 73,
     "metadata": {},
     "output_type": "execute_result"
    }
   ],
   "source": [
    "# 열 기준 정렬하기\n",
    "arr2.sort(axis = 0)\n",
    "arr2"
   ]
  },
  {
   "cell_type": "code",
   "execution_count": 74,
   "metadata": {},
   "outputs": [
    {
     "data": {
      "text/plain": [
       "array([[ 2,  3,  5,  5,  8, 11, 14, 15, 25, 60],\n",
       "       [ 3,  9, 16, 17, 20, 28, 53, 61, 67, 68],\n",
       "       [10, 15, 25, 28, 32, 35, 54, 64, 72, 81],\n",
       "       [48, 49, 54, 59, 66, 68, 80, 84, 87, 92],\n",
       "       [50, 56, 62, 88, 94, 95, 95, 99, 99, 99]])"
      ]
     },
     "execution_count": 74,
     "metadata": {},
     "output_type": "execute_result"
    }
   ],
   "source": [
    "# 행 기준 정렬하기\n",
    "arr2.sort(axis = 1)\n",
    "arr2"
   ]
  },
  {
   "cell_type": "markdown",
   "metadata": {},
   "source": [
    "## 6-5. 인덱싱과 슬라이싱"
   ]
  },
  {
   "cell_type": "code",
   "execution_count": 79,
   "metadata": {},
   "outputs": [
    {
     "data": {
      "text/plain": [
       "array([[ 0,  1,  2,  3,  4],\n",
       "       [ 5,  6,  7,  8,  9],\n",
       "       [10, 11, 12, 13, 14]])"
      ]
     },
     "execution_count": 79,
     "metadata": {},
     "output_type": "execute_result"
    }
   ],
   "source": [
    "# 0~14로 이루어진 2차원 배열 (3, 5) 생성하기\n",
    "arr2 = np.arange(0,15).reshape(3,5)\n",
    "arr2"
   ]
  },
  {
   "cell_type": "code",
   "execution_count": 81,
   "metadata": {},
   "outputs": [
    {
     "data": {
      "text/plain": [
       "7"
      ]
     },
     "execution_count": 81,
     "metadata": {},
     "output_type": "execute_result"
    }
   ],
   "source": [
    "# 위 배열에서 7을 인덱싱하기\n",
    "arr2[1,2]"
   ]
  },
  {
   "cell_type": "code",
   "execution_count": 83,
   "metadata": {},
   "outputs": [
    {
     "data": {
      "text/plain": [
       "14"
      ]
     },
     "execution_count": 83,
     "metadata": {},
     "output_type": "execute_result"
    }
   ],
   "source": [
    "# 위 배열에서 14를 인덱싱하기 (음수 인덱스 사용)\n",
    "arr2[-1,-1]"
   ]
  },
  {
   "cell_type": "code",
   "execution_count": 84,
   "metadata": {},
   "outputs": [
    {
     "data": {
      "text/plain": [
       "array([6, 7])"
      ]
     },
     "execution_count": 84,
     "metadata": {},
     "output_type": "execute_result"
    }
   ],
   "source": [
    "# 위 배열에서 배열 [6, 7]을 슬라이싱하기\n",
    "arr2[1,[1,2]]"
   ]
  },
  {
   "cell_type": "code",
   "execution_count": 86,
   "metadata": {},
   "outputs": [
    {
     "data": {
      "text/plain": [
       "array([ 7, 12])"
      ]
     },
     "execution_count": 86,
     "metadata": {},
     "output_type": "execute_result"
    }
   ],
   "source": [
    "# 위 배열에서 배열 [7, 12]을 슬라이싱하기\n",
    "arr2[1:,2]"
   ]
  },
  {
   "cell_type": "code",
   "execution_count": 88,
   "metadata": {},
   "outputs": [
    {
     "data": {
      "text/plain": [
       "array([[3, 4],\n",
       "       [8, 9]])"
      ]
     },
     "execution_count": 88,
     "metadata": {},
     "output_type": "execute_result"
    }
   ],
   "source": [
    "# 위 배열에서 [[3, 4], [8, 9]]을 슬라이싱하기\n",
    "arr2[:2,3:]"
   ]
  },
  {
   "cell_type": "code",
   "execution_count": 90,
   "metadata": {},
   "outputs": [
    {
     "data": {
      "text/plain": [
       "array([ 0,  3,  6,  9, 12])"
      ]
     },
     "execution_count": 90,
     "metadata": {},
     "output_type": "execute_result"
    }
   ],
   "source": [
    "# 위 배열에서 3의 배수 찾기\n",
    "arr2[arr2%3==0]"
   ]
  },
  {
   "cell_type": "code",
   "execution_count": 91,
   "metadata": {},
   "outputs": [
    {
     "data": {
      "text/plain": [
       "array([ 1,  5,  9, 13])"
      ]
     },
     "execution_count": 91,
     "metadata": {},
     "output_type": "execute_result"
    }
   ],
   "source": [
    "# 위 배열에서 4로 나누면 1이 남는 수 찾기\n",
    "arr2[arr2%4==1]"
   ]
  },
  {
   "cell_type": "code",
   "execution_count": 92,
   "metadata": {},
   "outputs": [
    {
     "data": {
      "text/plain": [
       "array([9])"
      ]
     },
     "execution_count": 92,
     "metadata": {},
     "output_type": "execute_result"
    }
   ],
   "source": [
    "# 위 배열에서 3의 배수이면서 4로 나누면 1이 남는 수 찾기\n",
    "arr2[(arr2%3==0) & (arr2%4==1)]"
   ]
  },
  {
   "cell_type": "markdown",
   "metadata": {},
   "source": [
    " ## "
   ]
  }
 ],
 "metadata": {
  "kernelspec": {
   "display_name": "Python 3",
   "language": "python",
   "name": "python3"
  },
  "language_info": {
   "codemirror_mode": {
    "name": "ipython",
    "version": 3
   },
   "file_extension": ".py",
   "mimetype": "text/x-python",
   "name": "python",
   "nbconvert_exporter": "python",
   "pygments_lexer": "ipython3",
   "version": "3.8.5"
  }
 },
 "nbformat": 4,
 "nbformat_minor": 4
}
