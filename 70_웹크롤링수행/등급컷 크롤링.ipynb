{
 "cells": [
  {
   "cell_type": "markdown",
   "source": [
    "# 주제: 원하는 년도, 학년, 월을 입력하면, 그에 따른 국/수/영/한국사/직탐 등급컷 알려주기"
   ],
   "metadata": {}
  },
  {
   "cell_type": "markdown",
   "source": [
    "### 방법:\n",
    "1. ebsi 웹사이트에서 모든 등급을 볼 수 있는 페이지로 들어간다\n",
    "2. 처음에 설정한 년도와 학년, 월을 선택한다\n",
    "3. 만약 1,2학년이라면 국어, 수학, 영어, 한국사를 가져온다\n",
    "4. 만약에 3학년이라면 화법과 작문, 언어와 매체, 확률과 통계, 미적분, 기하, 영어, 한국사를 가져오고, 직탐 모든 과목도 가져온다"
   ],
   "metadata": {}
  },
  {
   "cell_type": "markdown",
   "source": [
    "### 주의 할점:\n",
    "1. 마우스를 페이지의 특정 단어위에 놓으면 hover 효과로 창 같은게 내려오는데, 이 과정에서 driver 행동을 방해하게 된다. 유의해주셔용!"
   ],
   "metadata": {}
  },
  {
   "cell_type": "markdown",
   "source": [
    "### *Import 하기"
   ],
   "metadata": {}
  },
  {
   "cell_type": "code",
   "execution_count": 36,
   "source": [
    "from selenium import webdriver\n",
    "from selenium.webdriver.common.keys import Keys\n",
    "import time\n",
    "import pprint\n",
    "import pandas as pd\n",
    "from bs4 import BeautifulSoup\n",
    "\n",
    "from selenium.webdriver.common.by import By\n",
    "from selenium.webdriver.support.ui import WebDriverWait\n",
    "from selenium.webdriver.support import expected_conditions as EC\n",
    "from selenium.webdriver.support.ui import Select\n",
    "from selenium.common.exceptions import NoSuchElementException\n",
    "\n",
    "import sys"
   ],
   "outputs": [],
   "metadata": {}
  },
  {
   "cell_type": "markdown",
   "source": [
    "### *Garage"
   ],
   "metadata": {}
  },
  {
   "cell_type": "code",
   "execution_count": 37,
   "source": [
    "# WebDriverWait(driver, 10).until(\n",
    "#         EC.presence_of_element_located(\n",
    "#             (By.CSS_SELECTOR, \".set_sido_cd_btn\"))\n",
    "#     )"
   ],
   "outputs": [],
   "metadata": {}
  },
  {
   "cell_type": "markdown",
   "source": [
    "### *Ininitialize"
   ],
   "metadata": {}
  },
  {
   "cell_type": "code",
   "execution_count": 38,
   "source": [
    "driver_path = '/Users/timothychun/Downloads/chromedriver'\n",
    "\n",
    "driver = webdriver.Chrome(driver_path)\n",
    "\n",
    "#나중에 사용자가 변경 가능하도록 만들고 싶음\n",
    "Year = 2021\n",
    "Grade = 3\n",
    "Month = 6\n",
    "\n",
    "#셀(cell)을 execute하기 위한 클래스\n",
    "class StopExecution(Exception):\n",
    "    def _render_traceback_(self):\n",
    "        pass"
   ],
   "outputs": [],
   "metadata": {}
  },
  {
   "cell_type": "markdown",
   "source": [
    "#### URL 불러오기"
   ],
   "metadata": {}
  },
  {
   "cell_type": "code",
   "execution_count": 39,
   "source": [
    "url = \"https://www.ebsi.co.kr/ebs/xip/xipa/retrievePastGrdCutWrongAnswerRate.ebs\"\n",
    "\n",
    "driver.get(url)\n",
    "\n",
    "# \"역대 등급컷/오답률 TOP15\" 라는 title이 나올때까지 기다리기\n",
    "WebDriverWait(driver, 10).until(\n",
    "        EC.presence_of_element_located(\n",
    "            (By.CSS_SELECTOR, \"body > div.wrap > section > div > div.content > div.title_wrap2 > h3\"))\n",
    "    )"
   ],
   "outputs": [
    {
     "output_type": "error",
     "ename": "NoSuchWindowException",
     "evalue": "Message: no such window: target window already closed\nfrom unknown error: web view not found\n  (Session info: chrome=93.0.4577.82)\n",
     "traceback": [
      "\u001b[0;31m---------------------------------------------------------------------------\u001b[0m",
      "\u001b[0;31mNoSuchWindowException\u001b[0m                     Traceback (most recent call last)",
      "\u001b[0;32m<ipython-input-39-12c5e6aec6c2>\u001b[0m in \u001b[0;36m<module>\u001b[0;34m\u001b[0m\n\u001b[1;32m      4\u001b[0m \u001b[0;34m\u001b[0m\u001b[0m\n\u001b[1;32m      5\u001b[0m \u001b[0;31m# \"역대 등급컷/오답률 TOP15\" 라는 title이 나올때까지 기다리기\u001b[0m\u001b[0;34m\u001b[0m\u001b[0;34m\u001b[0m\u001b[0;34m\u001b[0m\u001b[0m\n\u001b[0;32m----> 6\u001b[0;31m WebDriverWait(driver, 10).until(\n\u001b[0m\u001b[1;32m      7\u001b[0m         EC.presence_of_element_located(\n\u001b[1;32m      8\u001b[0m             (By.CSS_SELECTOR, \"body > div.wrap > section > div > div.content > div.title_wrap2 > h3\"))\n",
      "\u001b[0;32m~/opt/anaconda3/lib/python3.8/site-packages/selenium/webdriver/support/wait.py\u001b[0m in \u001b[0;36muntil\u001b[0;34m(self, method, message)\u001b[0m\n\u001b[1;32m     69\u001b[0m         \u001b[0;32mwhile\u001b[0m \u001b[0;32mTrue\u001b[0m\u001b[0;34m:\u001b[0m\u001b[0;34m\u001b[0m\u001b[0;34m\u001b[0m\u001b[0m\n\u001b[1;32m     70\u001b[0m             \u001b[0;32mtry\u001b[0m\u001b[0;34m:\u001b[0m\u001b[0;34m\u001b[0m\u001b[0;34m\u001b[0m\u001b[0m\n\u001b[0;32m---> 71\u001b[0;31m                 \u001b[0mvalue\u001b[0m \u001b[0;34m=\u001b[0m \u001b[0mmethod\u001b[0m\u001b[0;34m(\u001b[0m\u001b[0mself\u001b[0m\u001b[0;34m.\u001b[0m\u001b[0m_driver\u001b[0m\u001b[0;34m)\u001b[0m\u001b[0;34m\u001b[0m\u001b[0;34m\u001b[0m\u001b[0m\n\u001b[0m\u001b[1;32m     72\u001b[0m                 \u001b[0;32mif\u001b[0m \u001b[0mvalue\u001b[0m\u001b[0;34m:\u001b[0m\u001b[0;34m\u001b[0m\u001b[0;34m\u001b[0m\u001b[0m\n\u001b[1;32m     73\u001b[0m                     \u001b[0;32mreturn\u001b[0m \u001b[0mvalue\u001b[0m\u001b[0;34m\u001b[0m\u001b[0;34m\u001b[0m\u001b[0m\n",
      "\u001b[0;32m~/opt/anaconda3/lib/python3.8/site-packages/selenium/webdriver/support/expected_conditions.py\u001b[0m in \u001b[0;36m__call__\u001b[0;34m(self, driver)\u001b[0m\n\u001b[1;32m     62\u001b[0m \u001b[0;34m\u001b[0m\u001b[0m\n\u001b[1;32m     63\u001b[0m     \u001b[0;32mdef\u001b[0m \u001b[0m__call__\u001b[0m\u001b[0;34m(\u001b[0m\u001b[0mself\u001b[0m\u001b[0;34m,\u001b[0m \u001b[0mdriver\u001b[0m\u001b[0;34m)\u001b[0m\u001b[0;34m:\u001b[0m\u001b[0;34m\u001b[0m\u001b[0;34m\u001b[0m\u001b[0m\n\u001b[0;32m---> 64\u001b[0;31m         \u001b[0;32mreturn\u001b[0m \u001b[0m_find_element\u001b[0m\u001b[0;34m(\u001b[0m\u001b[0mdriver\u001b[0m\u001b[0;34m,\u001b[0m \u001b[0mself\u001b[0m\u001b[0;34m.\u001b[0m\u001b[0mlocator\u001b[0m\u001b[0;34m)\u001b[0m\u001b[0;34m\u001b[0m\u001b[0;34m\u001b[0m\u001b[0m\n\u001b[0m\u001b[1;32m     65\u001b[0m \u001b[0;34m\u001b[0m\u001b[0m\n\u001b[1;32m     66\u001b[0m \u001b[0;34m\u001b[0m\u001b[0m\n",
      "\u001b[0;32m~/opt/anaconda3/lib/python3.8/site-packages/selenium/webdriver/support/expected_conditions.py\u001b[0m in \u001b[0;36m_find_element\u001b[0;34m(driver, by)\u001b[0m\n\u001b[1;32m    413\u001b[0m         \u001b[0;32mraise\u001b[0m \u001b[0me\u001b[0m\u001b[0;34m\u001b[0m\u001b[0;34m\u001b[0m\u001b[0m\n\u001b[1;32m    414\u001b[0m     \u001b[0;32mexcept\u001b[0m \u001b[0mWebDriverException\u001b[0m \u001b[0;32mas\u001b[0m \u001b[0me\u001b[0m\u001b[0;34m:\u001b[0m\u001b[0;34m\u001b[0m\u001b[0;34m\u001b[0m\u001b[0m\n\u001b[0;32m--> 415\u001b[0;31m         \u001b[0;32mraise\u001b[0m \u001b[0me\u001b[0m\u001b[0;34m\u001b[0m\u001b[0;34m\u001b[0m\u001b[0m\n\u001b[0m\u001b[1;32m    416\u001b[0m \u001b[0;34m\u001b[0m\u001b[0m\n\u001b[1;32m    417\u001b[0m \u001b[0;34m\u001b[0m\u001b[0m\n",
      "\u001b[0;32m~/opt/anaconda3/lib/python3.8/site-packages/selenium/webdriver/support/expected_conditions.py\u001b[0m in \u001b[0;36m_find_element\u001b[0;34m(driver, by)\u001b[0m\n\u001b[1;32m    409\u001b[0m     if thrown.\"\"\"\n\u001b[1;32m    410\u001b[0m     \u001b[0;32mtry\u001b[0m\u001b[0;34m:\u001b[0m\u001b[0;34m\u001b[0m\u001b[0;34m\u001b[0m\u001b[0m\n\u001b[0;32m--> 411\u001b[0;31m         \u001b[0;32mreturn\u001b[0m \u001b[0mdriver\u001b[0m\u001b[0;34m.\u001b[0m\u001b[0mfind_element\u001b[0m\u001b[0;34m(\u001b[0m\u001b[0;34m*\u001b[0m\u001b[0mby\u001b[0m\u001b[0;34m)\u001b[0m\u001b[0;34m\u001b[0m\u001b[0;34m\u001b[0m\u001b[0m\n\u001b[0m\u001b[1;32m    412\u001b[0m     \u001b[0;32mexcept\u001b[0m \u001b[0mNoSuchElementException\u001b[0m \u001b[0;32mas\u001b[0m \u001b[0me\u001b[0m\u001b[0;34m:\u001b[0m\u001b[0;34m\u001b[0m\u001b[0;34m\u001b[0m\u001b[0m\n\u001b[1;32m    413\u001b[0m         \u001b[0;32mraise\u001b[0m \u001b[0me\u001b[0m\u001b[0;34m\u001b[0m\u001b[0;34m\u001b[0m\u001b[0m\n",
      "\u001b[0;32m~/opt/anaconda3/lib/python3.8/site-packages/selenium/webdriver/remote/webdriver.py\u001b[0m in \u001b[0;36mfind_element\u001b[0;34m(self, by, value)\u001b[0m\n\u001b[1;32m    974\u001b[0m                 \u001b[0mby\u001b[0m \u001b[0;34m=\u001b[0m \u001b[0mBy\u001b[0m\u001b[0;34m.\u001b[0m\u001b[0mCSS_SELECTOR\u001b[0m\u001b[0;34m\u001b[0m\u001b[0;34m\u001b[0m\u001b[0m\n\u001b[1;32m    975\u001b[0m                 \u001b[0mvalue\u001b[0m \u001b[0;34m=\u001b[0m \u001b[0;34m'[name=\"%s\"]'\u001b[0m \u001b[0;34m%\u001b[0m \u001b[0mvalue\u001b[0m\u001b[0;34m\u001b[0m\u001b[0;34m\u001b[0m\u001b[0m\n\u001b[0;32m--> 976\u001b[0;31m         return self.execute(Command.FIND_ELEMENT, {\n\u001b[0m\u001b[1;32m    977\u001b[0m             \u001b[0;34m'using'\u001b[0m\u001b[0;34m:\u001b[0m \u001b[0mby\u001b[0m\u001b[0;34m,\u001b[0m\u001b[0;34m\u001b[0m\u001b[0;34m\u001b[0m\u001b[0m\n\u001b[1;32m    978\u001b[0m             'value': value})['value']\n",
      "\u001b[0;32m~/opt/anaconda3/lib/python3.8/site-packages/selenium/webdriver/remote/webdriver.py\u001b[0m in \u001b[0;36mexecute\u001b[0;34m(self, driver_command, params)\u001b[0m\n\u001b[1;32m    319\u001b[0m         \u001b[0mresponse\u001b[0m \u001b[0;34m=\u001b[0m \u001b[0mself\u001b[0m\u001b[0;34m.\u001b[0m\u001b[0mcommand_executor\u001b[0m\u001b[0;34m.\u001b[0m\u001b[0mexecute\u001b[0m\u001b[0;34m(\u001b[0m\u001b[0mdriver_command\u001b[0m\u001b[0;34m,\u001b[0m \u001b[0mparams\u001b[0m\u001b[0;34m)\u001b[0m\u001b[0;34m\u001b[0m\u001b[0;34m\u001b[0m\u001b[0m\n\u001b[1;32m    320\u001b[0m         \u001b[0;32mif\u001b[0m \u001b[0mresponse\u001b[0m\u001b[0;34m:\u001b[0m\u001b[0;34m\u001b[0m\u001b[0;34m\u001b[0m\u001b[0m\n\u001b[0;32m--> 321\u001b[0;31m             \u001b[0mself\u001b[0m\u001b[0;34m.\u001b[0m\u001b[0merror_handler\u001b[0m\u001b[0;34m.\u001b[0m\u001b[0mcheck_response\u001b[0m\u001b[0;34m(\u001b[0m\u001b[0mresponse\u001b[0m\u001b[0;34m)\u001b[0m\u001b[0;34m\u001b[0m\u001b[0;34m\u001b[0m\u001b[0m\n\u001b[0m\u001b[1;32m    322\u001b[0m             response['value'] = self._unwrap_value(\n\u001b[1;32m    323\u001b[0m                 response.get('value', None))\n",
      "\u001b[0;32m~/opt/anaconda3/lib/python3.8/site-packages/selenium/webdriver/remote/errorhandler.py\u001b[0m in \u001b[0;36mcheck_response\u001b[0;34m(self, response)\u001b[0m\n\u001b[1;32m    240\u001b[0m                 \u001b[0malert_text\u001b[0m \u001b[0;34m=\u001b[0m \u001b[0mvalue\u001b[0m\u001b[0;34m[\u001b[0m\u001b[0;34m'alert'\u001b[0m\u001b[0;34m]\u001b[0m\u001b[0;34m.\u001b[0m\u001b[0mget\u001b[0m\u001b[0;34m(\u001b[0m\u001b[0;34m'text'\u001b[0m\u001b[0;34m)\u001b[0m\u001b[0;34m\u001b[0m\u001b[0;34m\u001b[0m\u001b[0m\n\u001b[1;32m    241\u001b[0m             \u001b[0;32mraise\u001b[0m \u001b[0mexception_class\u001b[0m\u001b[0;34m(\u001b[0m\u001b[0mmessage\u001b[0m\u001b[0;34m,\u001b[0m \u001b[0mscreen\u001b[0m\u001b[0;34m,\u001b[0m \u001b[0mstacktrace\u001b[0m\u001b[0;34m,\u001b[0m \u001b[0malert_text\u001b[0m\u001b[0;34m)\u001b[0m\u001b[0;34m\u001b[0m\u001b[0;34m\u001b[0m\u001b[0m\n\u001b[0;32m--> 242\u001b[0;31m         \u001b[0;32mraise\u001b[0m \u001b[0mexception_class\u001b[0m\u001b[0;34m(\u001b[0m\u001b[0mmessage\u001b[0m\u001b[0;34m,\u001b[0m \u001b[0mscreen\u001b[0m\u001b[0;34m,\u001b[0m \u001b[0mstacktrace\u001b[0m\u001b[0;34m)\u001b[0m\u001b[0;34m\u001b[0m\u001b[0;34m\u001b[0m\u001b[0m\n\u001b[0m\u001b[1;32m    243\u001b[0m \u001b[0;34m\u001b[0m\u001b[0m\n\u001b[1;32m    244\u001b[0m     \u001b[0;32mdef\u001b[0m \u001b[0m_value_or_default\u001b[0m\u001b[0;34m(\u001b[0m\u001b[0mself\u001b[0m\u001b[0;34m,\u001b[0m \u001b[0mobj\u001b[0m\u001b[0;34m,\u001b[0m \u001b[0mkey\u001b[0m\u001b[0;34m,\u001b[0m \u001b[0mdefault\u001b[0m\u001b[0;34m)\u001b[0m\u001b[0;34m:\u001b[0m\u001b[0;34m\u001b[0m\u001b[0;34m\u001b[0m\u001b[0m\n",
      "\u001b[0;31mNoSuchWindowException\u001b[0m: Message: no such window: target window already closed\nfrom unknown error: web view not found\n  (Session info: chrome=93.0.4577.82)\n"
     ]
    }
   ],
   "metadata": {}
  },
  {
   "cell_type": "markdown",
   "source": [
    "#### 연도 선택하기"
   ],
   "metadata": {}
  },
  {
   "cell_type": "code",
   "execution_count": null,
   "source": [
    "#연도 선택하기\n",
    "\n",
    "time.sleep(1)\n",
    "grade_select = Select(driver.find_element_by_css_selector(f\"#gYear\"))\n",
    "try:\n",
    "    grade_select.select_by_visible_text(f'{Year}년')\n",
    "except NoSuchElementException: #만약 선택자가 선택한 월이 존재하지 않때\n",
    "    print(\"그런 년도가 없습니다!\")\n",
    "    driver.close()\n",
    "time.sleep(1)"
   ],
   "outputs": [],
   "metadata": {}
  },
  {
   "cell_type": "markdown",
   "source": [
    "#### 학년 선택하기"
   ],
   "metadata": {}
  },
  {
   "cell_type": "code",
   "execution_count": null,
   "source": [
    "#학년 선택하기\n",
    "\n",
    "year_select = Select(driver.find_element_by_css_selector(\"#gStdntGrd\"))\n",
    "try:\n",
    "    year_select.select_by_visible_text(f'{Grade}학년')\n",
    "    \n",
    "except NoSuchElementException: #만약 선택자가 선택한 월이 존재하지 않때\n",
    "    print(\"그런 학년이 없습니다!\")\n",
    "    driver.close()\n",
    "\n",
    "time.sleep(1)"
   ],
   "outputs": [],
   "metadata": {}
  },
  {
   "cell_type": "markdown",
   "source": [
    "#### 월 선택하기"
   ],
   "metadata": {}
  },
  {
   "cell_type": "code",
   "execution_count": null,
   "source": [
    "#월 선택하기\n",
    "\n",
    "target_year_month_id = Select(driver.find_element_by_css_selector(\"#gMonth\"))\n",
    "\n",
    "if Month<10:\n",
    "    Month_text = \"0\"+ str(Month)\n",
    "else:\n",
    "    Month_text = str(Month)\n",
    "try:\n",
    "    target_year_month_id.select_by_visible_text(f'{Month_text}월')\n",
    "except NoSuchElementException: #만약 선택자가 선택한 월이 존재하지 않때\n",
    "    print(\"그런 월이 없습니다!\")\n",
    "    driver.close()"
   ],
   "outputs": [],
   "metadata": {}
  },
  {
   "cell_type": "markdown",
   "source": [
    "#### 검색 버튼 누르기"
   ],
   "metadata": {}
  },
  {
   "cell_type": "code",
   "execution_count": null,
   "source": [
    "#검색 버튼 누르기\n",
    "driver.find_element_by_css_selector('#pastGrdCutArea > div.search_box > div > button').click()"
   ],
   "outputs": [],
   "metadata": {}
  },
  {
   "cell_type": "markdown",
   "source": [
    "#### 국어, 수학, 영어 등급컷 가져오기\n",
    "* 1,2학년 / 3학년 따로\n",
    "* -> 3학년은 국어와 수학이 분리 되지만, 1,2학년은 그렇지 않기 때문에, 따로 함수를 만들어서 불러온다\n",
    "* 선택한 페이지를 bs4를 이용하여 데이터 가져오기\n"
   ],
   "metadata": {}
  },
  {
   "cell_type": "code",
   "execution_count": null,
   "source": [
    "\n",
    "# def third_grade():\n",
    "#     time.sleep(1)\n",
    "#     html=driver.page_source\n",
    "#     soup = BeautifulSoup(html,'html.parser')\n",
    "#     a = soup.find_all(class_=\"table_scroll2\")\n",
    "#     grades = []\n",
    "# #     subjects = [\"화법과 작문\",\"언어와 매체\",\"확률과 통계\",\"미적분\",\"기하\",\"영어\",\"한국사\"]\n",
    "#     subjects = [\"국어\",\"수학\",\"영어\",\"한국사\"]\n",
    "#     hj = []\n",
    "#     li = []\n",
    "#     prob=[]\n",
    "#     calc = []\n",
    "#     geom=[]\n",
    "#     i=0\n",
    "#     for div in a:\n",
    "#         tr = div.find_all('tr')\n",
    "#         for td in tr:\n",
    "#             level = td.find(scope = 'row')\n",
    "#             if level == None:\n",
    "# #                 grades.append(subjects[i])\n",
    "#                 continue\n",
    "#             if td.find(scope = 'row').get_text() == \"1\":\n",
    "#                 grades.append(subjects[i])\n",
    "#                 i+=1\n",
    "#             level = td.find(scope = 'row').get_text()\n",
    "\n",
    "            \n",
    "#             grade = td.find_all(class_=\"c_blue\")\n",
    "#             if len(grade) > 1:\n",
    "#                 indi = []\n",
    "#                 for indivisual in grade:\n",
    "#                     indi.append(indivisual.get_text())\n",
    "#             else:\n",
    "#                 indi = grade[0].get_text()\n",
    "            \n",
    "#             grades.append(dict(등급=level,점수=indi))\n",
    "\n",
    "#     kor_grades = grades[1:10]\n",
    "#     math_grades = grades[11:20]\n",
    "#     eng_grades = grades[21:30]\n",
    "#     his_grades = grades[31:40]\n",
    "    \n",
    "#     for i in kor_grades:\n",
    "#         hj.append(i[\"점수\"][0])\n",
    "#         li.append(i[\"점수\"][1])\n",
    "#     for i in math_grades:\n",
    "#         prob.append(i[\"점수\"][0])\n",
    "#         calc.append(i[\"점수\"][1])\n",
    "#         geom.append(i[\"점수\"][2])\n",
    "    \n",
    "#     hj_df = pd.DataFrame(data = hj)\n",
    "    \n",
    "    \n",
    "#     li_df = pd.DataFrame(data = li)\n",
    "    \n",
    "#     prob_df = pd.DataFrame(data = prob)\n",
    "    \n",
    "#     calc_df = pd.DataFrame(data = calc)\n",
    "    \n",
    "#     geom_df = pd.DataFrame(data = geom)\n",
    "    \n",
    "   \n",
    "    \n",
    "#     kor_df = pd.concat([hj_df,li_df],axis=1)\n",
    "#     kor_df.columns = ['화법과 작문','언어와 매체']\n",
    "#     kor_df.columns.name = \"국어\"\n",
    "#     kor_df.reset_index(drop=True)\n",
    "#     kor_df.index += 1\n",
    "\n",
    "#     math_df = pd.concat([prob_df,calc_df,geom_df],axis=1)\n",
    "#     math_df.columns = ['확률과 통계','미적분','기하']\n",
    "#     math_df.columns.name = \"수학\"\n",
    "#     math_df.index += 1\n",
    "#     math_df.reset_index(drop=True)\n",
    "\n",
    "    \n",
    "#     eng_df = pd.DataFrame(data = eng_grades)\n",
    "#     eng_df.columns.name = '영어'\n",
    "#     eng_df.index += 1\n",
    "    \n",
    "#     his_df = pd.DataFrame(data = his_grades)\n",
    "#     his_df.columns.name = '한국사'\n",
    "#     his_df.index += 1\n",
    "#     return kor_df,math_df,eng_df,his_df\n",
    "\n",
    "\n",
    "    \n",
    "\n",
    "# def first_and_second_grade():\n",
    "#     time.sleep(1)\n",
    "#     html = driver.page_source\n",
    "#     soup = BeautifulSoup(html,'html.parser')\n",
    "#     a = soup.find_all(class_=\"table_scroll2\")\n",
    "#     grades = []\n",
    "#     subjects = [\"국어\",\"수학\",\"영어\",\"한국사\"]\n",
    "#     i=0\n",
    "#     for div in a:\n",
    "#         tr = div.find_all('tr')\n",
    "#         for td in tr:\n",
    "#             level = td.find(scope = 'row')\n",
    "#             if level == None:\n",
    "#                 grades.append(subjects[i])\n",
    "#                 i+=1\n",
    "#                 continue\n",
    "#             level = td.find(scope = 'row').get_text()\n",
    "#             grade = td.find(class_=\"c_blue\").get_text()\n",
    "            \n",
    "#             grades.append(dict(등급=level,점수=grade))\n",
    "    \n",
    "#     kor_grades = grades[1:10]\n",
    "#     math_grades = grades[11:20]\n",
    "#     eng_grades = grades[21:30]\n",
    "#     his_grades = grades[31:40]\n",
    "#     kor_df = pd.DataFrame(data = kor_grades)\n",
    "#     kor_df.columns.name = '국어'\n",
    "#     kor_df.index += 1\n",
    "    \n",
    "#     math_df = pd.DataFrame(data = math_grades)\n",
    "#     math_df.columns.name = '수학'\n",
    "#     math_df.index += 1\n",
    "    \n",
    "#     eng_df = pd.DataFrame(data = eng_grades)\n",
    "#     eng_df.columns.name = '영어'\n",
    "#     eng_df.index += 1\n",
    "    \n",
    "#     his_df = pd.DataFrame(data = his_grades)\n",
    "#     his_df.columns.name = '한국사'\n",
    "#     his_df.index += 1\n",
    "#     return kor_df,math_df,eng_df,his_df\n",
    "\n",
    "    \n",
    "\n",
    "# if Grade>=3:\n",
    "#     kor_df,math_df,eng_df,his_df = third_grade()\n",
    "# else:\n",
    "#     kor_df,math_df,eng_df,his_df = first_and_second_grade()\n",
    "\n",
    "    \n",
    "\n",
    "# # driver.close()\n"
   ],
   "outputs": [],
   "metadata": {}
  },
  {
   "cell_type": "markdown",
   "source": [
    "### 국어 등급"
   ],
   "metadata": {}
  },
  {
   "cell_type": "code",
   "execution_count": null,
   "source": [
    "kor_df"
   ],
   "outputs": [],
   "metadata": {}
  },
  {
   "cell_type": "markdown",
   "source": [
    "### 수학 등급"
   ],
   "metadata": {}
  },
  {
   "cell_type": "code",
   "execution_count": null,
   "source": [
    "math_df"
   ],
   "outputs": [],
   "metadata": {}
  },
  {
   "cell_type": "markdown",
   "source": [
    "### 영어 등급"
   ],
   "metadata": {}
  },
  {
   "cell_type": "code",
   "execution_count": null,
   "source": [
    "eng_df"
   ],
   "outputs": [],
   "metadata": {}
  },
  {
   "cell_type": "markdown",
   "source": [
    "### 한국사 등급"
   ],
   "metadata": {}
  },
  {
   "cell_type": "code",
   "execution_count": null,
   "source": [
    "his_df"
   ],
   "outputs": [],
   "metadata": {}
  },
  {
   "cell_type": "markdown",
   "source": [
    "#### 직업 탐구 등급컷 가져오기\n",
    "* 선택한 페이지를 bs4를 이용하여 데이터 가져오기"
   ],
   "metadata": {}
  },
  {
   "cell_type": "code",
   "execution_count": null,
   "source": [
    "def jobs_tamgu():\n",
    "    driver.find_element_by_css_selector(\"#arBtn4 > a\").click()\n",
    "    time.sleep(2)\n",
    "    html=driver.page_source\n",
    "    soup = BeautifulSoup(html,'html.parser')\n",
    "    a = soup.find_all(class_=\"table_scroll2\")\n",
    "    \n",
    "    grades = []\n",
    "    subjects = [\"농업 기초 기술\",\"공업 일반\",\"상업 경제\",\"수산·해운 산업 기초\",\"인간 발달\",\"성공적인 직업 생활\"]\n",
    "    i=0\n",
    "    for div in a:\n",
    "        tr = div.find_all('tr')\n",
    "        d = 0\n",
    "        for td in tr:\n",
    "            level = td.find(scope = 'row')\n",
    "            grade = td.find(class_=\"c_blue\")\n",
    "            if level == None or grade == None and not d:\n",
    "                grades.append(subjects[i])\n",
    "                i+=1\n",
    "                continue\n",
    "            elif level == None or grade == None:\n",
    "                continue\n",
    "            level = td.find(scope = 'row').get_text()\n",
    "            if level == 9:\n",
    "                d=0\n",
    "            else:\n",
    "                d+=1\n",
    "            grade = td.find(class_=\"c_blue\").get_text()\n",
    "            \n",
    "            grades.append(dict(등급=level,점수=grade))\n",
    "    farm = grades[grades.index('농업 기초 기술')+1:grades.index('공업 일반')]\n",
    "    industry = grades[grades.index('공업 일반')+1:grades.index('상업 경제')]\n",
    "    econ = grades[grades.index('상업 경제')+1:grades.index('수산·해운 산업 기초')]\n",
    "    fisheries = grades[grades.index('수산·해운 산업 기초')+1:grades.index('인간 발달')]\n",
    "    human = grades[grades.index('인간 발달')+1:grades.index('성공적인 직업 생활')]\n",
    "    job = grades[grades.index('성공적인 직업 생활')+1:]\n",
    "    \n",
    "    \n",
    "    farm_df = pd.DataFrame(data = farm)\n",
    "    farm_df.columns.name = \"농업 기초 기술\"\n",
    "    farm_df.index += 1\n",
    "    \n",
    "    industry_df = pd.DataFrame(data = industry)\n",
    "    industry_df.columns.name = \"공업 일반\"\n",
    "    industry_df.index += 1\n",
    "    \n",
    "    econ_df = pd.DataFrame(data = econ)\n",
    "    econ_df.columns.name = \"상업 경제\"\n",
    "    econ_df.index += 1\n",
    "    \n",
    "    fisheries_df = pd.DataFrame(data = fisheries)\n",
    "    fisheries_df.columns.name = \"수산·해운 산업 기초\"\n",
    "    fisheries_df.index += 1\n",
    "    \n",
    "    human_df = pd.DataFrame(data = human)\n",
    "    human_df.columns.name = \"인간 발달\"\n",
    "    human_df.index += 1\n",
    "    \n",
    "    job_df = pd.DataFrame(data = job)\n",
    "    job_df.columns.name = \"성공적인 직업 생활\"\n",
    "    job_df.index += 1\n",
    "    \n",
    "    return farm_df,industry_df,econ_df,fisheries_df,human_df,job_df\n",
    "    \n",
    "    \n",
    "\n",
    "\n",
    "if Grade != 3 or Month not in [6,9,11]:\n",
    "    print(\"직탐을 print할 수 없습니다!\")\n",
    "    access = 0\n",
    "else:\n",
    "    access = 1\n",
    "    farm_df,industry_df,econ_df,fisheries_df,human_df,job_df = jobs_tamgu()"
   ],
   "outputs": [],
   "metadata": {}
  },
  {
   "cell_type": "markdown",
   "source": [
    "### 농업 기초 기술"
   ],
   "metadata": {}
  },
  {
   "cell_type": "code",
   "execution_count": null,
   "source": [
    "if not access:\n",
    "    print(\"데이터를 접근 할 수 없음. 학년을 다시 선택하세요!\")\n",
    "    raise StopExecution\n",
    "    \n",
    "farm_df"
   ],
   "outputs": [],
   "metadata": {}
  },
  {
   "cell_type": "markdown",
   "source": [
    "### 공업 일반 "
   ],
   "metadata": {}
  },
  {
   "cell_type": "code",
   "execution_count": null,
   "source": [
    "if not access:\n",
    "    print(\"데이터를 접근 할 수 없음. 학년을 다시 선택하세요!\")\n",
    "    raise StopExecution\n",
    "industry_df"
   ],
   "outputs": [],
   "metadata": {}
  },
  {
   "cell_type": "markdown",
   "source": [
    "### 상업 경게"
   ],
   "metadata": {}
  },
  {
   "cell_type": "code",
   "execution_count": null,
   "source": [
    "if not access:\n",
    "    print(\"데이터를 접근 할 수 없음. 학년을 다시 선택하세요!\")\n",
    "    raise StopExecution\n",
    "econ_df"
   ],
   "outputs": [],
   "metadata": {}
  },
  {
   "cell_type": "markdown",
   "source": [
    "### 수산·해운 산업 기초"
   ],
   "metadata": {}
  },
  {
   "cell_type": "code",
   "execution_count": null,
   "source": [
    "if not access:\n",
    "    print(\"데이터를 접근 할 수 없음. 학년을 다시 선택하세요!\")\n",
    "    raise StopExecution\n",
    "fisheries_df"
   ],
   "outputs": [],
   "metadata": {}
  },
  {
   "cell_type": "markdown",
   "source": [
    "### 인간 발달"
   ],
   "metadata": {}
  },
  {
   "cell_type": "code",
   "execution_count": null,
   "source": [
    "if not access:\n",
    "    print(\"데이터를 접근 할 수 없음. 학년을 다시 선택하세요!\")\n",
    "    raise StopExecution\n",
    "human_df"
   ],
   "outputs": [],
   "metadata": {}
  },
  {
   "cell_type": "markdown",
   "source": [
    "### 성공적인 직업 생활"
   ],
   "metadata": {}
  },
  {
   "cell_type": "code",
   "execution_count": null,
   "source": [
    "if not access:\n",
    "    print(\"데이터를 접근 할 수 없음. 학년을 다시 선택하세요!\")\n",
    "    raise StopExecution\n",
    "job_df"
   ],
   "outputs": [],
   "metadata": {}
  },
  {
   "cell_type": "code",
   "execution_count": null,
   "source": [
    "driver.close()"
   ],
   "outputs": [],
   "metadata": {}
  }
 ],
 "metadata": {
  "kernelspec": {
   "display_name": "Python 3",
   "language": "python",
   "name": "python3"
  },
  "language_info": {
   "codemirror_mode": {
    "name": "ipython",
    "version": 3
   },
   "file_extension": ".py",
   "mimetype": "text/x-python",
   "name": "python",
   "nbconvert_exporter": "python",
   "pygments_lexer": "ipython3",
   "version": "3.8.5"
  }
 },
 "nbformat": 4,
 "nbformat_minor": 4
}