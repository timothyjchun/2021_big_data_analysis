{
 "cells": [
  {
   "cell_type": "markdown",
   "metadata": {},
   "source": [
    "# Open Weather API에서 Current Weather Data API\n",
    "* https://openweathermap.org/current"
   ]
  },
  {
   "cell_type": "markdown",
   "metadata": {},
   "source": [
    "## Initialize"
   ]
  },
  {
   "cell_type": "code",
   "execution_count": 1,
   "metadata": {},
   "outputs": [],
   "source": [
    "import requests\n",
    "import pprint\n",
    "from datetime import datetime\n",
    "import pandas as pd\n",
    "\n",
    "\n",
    "\n",
    "API_KEY = \"bde2a61b68ef64d0ba067f11a64e5d9f\"\n",
    "kelvin =  273.15\n"
   ]
  },
  {
   "cell_type": "markdown",
   "metadata": {},
   "source": [
    "### City Name으로 API 호출하기"
   ]
  },
  {
   "cell_type": "code",
   "execution_count": 2,
   "metadata": {},
   "outputs": [
    {
     "name": "stdout",
     "output_type": "stream",
     "text": [
      "{'base': 'stations',\n",
      " 'clouds': {'all': 25},\n",
      " 'cod': 200,\n",
      " 'coord': {'lat': 37.3236, 'lon': 126.8219},\n",
      " 'dt': 1632355015,\n",
      " 'id': 1846918,\n",
      " 'main': {'feels_like': 292.53,\n",
      "          'grnd_level': 1015,\n",
      "          'humidity': 58,\n",
      "          'pressure': 1016,\n",
      "          'sea_level': 1016,\n",
      "          'temp': 292.98,\n",
      "          'temp_max': 295.12,\n",
      "          'temp_min': 291.14},\n",
      " 'name': 'Ansan-si',\n",
      " 'sys': {'country': 'KR',\n",
      "         'id': 8105,\n",
      "         'sunrise': 1632345664,\n",
      "         'sunset': 1632389360,\n",
      "         'type': 1},\n",
      " 'timezone': 32400,\n",
      " 'visibility': 10000,\n",
      " 'weather': [{'description': 'scattered clouds',\n",
      "              'icon': '03d',\n",
      "              'id': 802,\n",
      "              'main': 'Clouds'}],\n",
      " 'wind': {'deg': 310, 'gust': 10.25, 'speed': 6.82}}\n"
     ]
    }
   ],
   "source": [
    "city_name = \"Ansan-si\"\n",
    "res = requests.get(f\"https://api.openweathermap.org/data/2.5/weather?q={city_name}&appid={API_KEY}\")\n",
    "pprint.pprint(res.json())"
   ]
  },
  {
   "cell_type": "markdown",
   "metadata": {},
   "source": [
    "### City ID으로 API 호출하기"
   ]
  },
  {
   "cell_type": "code",
   "execution_count": 3,
   "metadata": {},
   "outputs": [
    {
     "data": {
      "text/plain": [
       "{'coord': {'lon': 126.8219, 'lat': 37.3236},\n",
       " 'weather': [{'id': 801,\n",
       "   'main': 'Clouds',\n",
       "   'description': 'few clouds',\n",
       "   'icon': '02d'}],\n",
       " 'base': 'stations',\n",
       " 'main': {'temp': 293.16,\n",
       "  'feels_like': 292.73,\n",
       "  'temp_min': 291.14,\n",
       "  'temp_max': 295.12,\n",
       "  'pressure': 1016,\n",
       "  'humidity': 58,\n",
       "  'sea_level': 1016,\n",
       "  'grnd_level': 1015},\n",
       " 'visibility': 10000,\n",
       " 'wind': {'speed': 6.54, 'deg': 306, 'gust': 10.17},\n",
       " 'clouds': {'all': 19},\n",
       " 'dt': 1632354939,\n",
       " 'sys': {'type': 1,\n",
       "  'id': 8105,\n",
       "  'country': 'KR',\n",
       "  'sunrise': 1632345664,\n",
       "  'sunset': 1632389360},\n",
       " 'timezone': 32400,\n",
       " 'id': 1846918,\n",
       " 'name': 'Ansan-si',\n",
       " 'cod': 200}"
      ]
     },
     "execution_count": 3,
     "metadata": {},
     "output_type": "execute_result"
    }
   ],
   "source": [
    "city_id = \"1846918\"\n",
    "res = requests.get(f\"https://api.openweathermap.org/data/2.5/weather?id={city_id}&appid={API_KEY}\")\n",
    "data = res.json()\n",
    "data"
   ]
  },
  {
   "cell_type": "markdown",
   "metadata": {},
   "source": [
    "### API를 통해서 얻은 Data 추출하기"
   ]
  },
  {
   "cell_type": "code",
   "execution_count": 4,
   "metadata": {},
   "outputs": [],
   "source": [
    "lat = data[\"coord\"]['lat']\n",
    "lon = data[\"coord\"]['lon']\n",
    "temperature_feels = round(data[\"main\"]['feels_like'] - kelvin,2)\n",
    "temperature = round(data[\"main\"]['temp'] - kelvin,2)\n",
    "temperature_max = round(data[\"main\"]['temp_max'] - kelvin,2)\n",
    "temperature_min = round(data[\"main\"]['temp_min'] - kelvin,2)\n",
    "pressure = data[\"main\"][\"pressure\"]\n",
    "humidity = data[\"main\"]['humidity']"
   ]
  },
  {
   "cell_type": "markdown",
   "metadata": {},
   "source": [
    "#### 현재 시간 가져오기"
   ]
  },
  {
   "cell_type": "code",
   "execution_count": 5,
   "metadata": {},
   "outputs": [
    {
     "data": {
      "text/plain": [
       "'08:59:55'"
      ]
     },
     "execution_count": 5,
     "metadata": {},
     "output_type": "execute_result"
    }
   ],
   "source": [
    "now = datetime.now()\n",
    "current_time = now.strftime(\"%H:%M:%S\")\n",
    "current_time\n"
   ]
  },
  {
   "cell_type": "code",
   "execution_count": 6,
   "metadata": {},
   "outputs": [],
   "source": [
    "data = {\n",
    "    \"current_time\":current_time,\n",
    "    \"temperature\":temperature,\n",
    "    \"temperature_feels\":temperature_feels,\n",
    "    \"temperature_max\":temperature_max,\n",
    "    \"temperature_min\":temperature_min,\n",
    "    \"pressure\":pressure,\n",
    "}"
   ]
  },
  {
   "cell_type": "code",
   "execution_count": 7,
   "metadata": {},
   "outputs": [
    {
     "data": {
      "text/html": [
       "<div>\n",
       "<style scoped>\n",
       "    .dataframe tbody tr th:only-of-type {\n",
       "        vertical-align: middle;\n",
       "    }\n",
       "\n",
       "    .dataframe tbody tr th {\n",
       "        vertical-align: top;\n",
       "    }\n",
       "\n",
       "    .dataframe thead th {\n",
       "        text-align: right;\n",
       "    }\n",
       "</style>\n",
       "<table border=\"1\" class=\"dataframe\">\n",
       "  <thead>\n",
       "    <tr style=\"text-align: right;\">\n",
       "      <th>Ansan-si</th>\n",
       "      <th>current_time</th>\n",
       "      <th>temperature</th>\n",
       "      <th>temperature_feels</th>\n",
       "      <th>temperature_max</th>\n",
       "      <th>temperature_min</th>\n",
       "      <th>pressure</th>\n",
       "    </tr>\n",
       "  </thead>\n",
       "  <tbody>\n",
       "    <tr>\n",
       "      <th>1</th>\n",
       "      <td>08:59:55</td>\n",
       "      <td>20.01</td>\n",
       "      <td>19.58</td>\n",
       "      <td>21.97</td>\n",
       "      <td>17.99</td>\n",
       "      <td>1016</td>\n",
       "    </tr>\n",
       "  </tbody>\n",
       "</table>\n",
       "</div>"
      ],
      "text/plain": [
       "Ansan-si current_time  temperature  temperature_feels  temperature_max  \\\n",
       "1            08:59:55        20.01              19.58            21.97   \n",
       "\n",
       "Ansan-si  temperature_min  pressure  \n",
       "1                   17.99      1016  "
      ]
     },
     "execution_count": 7,
     "metadata": {},
     "output_type": "execute_result"
    }
   ],
   "source": [
    "df = pd.DataFrame(data,index = [1])\n",
    "df.columns.name = city_name\n",
    "df"
   ]
  },
  {
   "cell_type": "markdown",
   "metadata": {},
   "source": [
    "### 대기 오염 가져오기"
   ]
  },
  {
   "cell_type": "code",
   "execution_count": 8,
   "metadata": {},
   "outputs": [
    {
     "name": "stdout",
     "output_type": "stream",
     "text": [
      "{'coord': {'lat': 37.3236, 'lon': 126.8219},\n",
      " 'list': [{'components': {'co': 494,\n",
      "                          'nh3': 2.41,\n",
      "                          'no': 5.42,\n",
      "                          'no2': 22.96,\n",
      "                          'o3': 49.35,\n",
      "                          'pm10': 23.16,\n",
      "                          'pm2_5': 17.71,\n",
      "                          'so2': 24.32},\n",
      "           'dt': 1632355200,\n",
      "           'main': {'aqi': 2}}]}\n"
     ]
    }
   ],
   "source": [
    "\n",
    "res = requests.get(f\"http://api.openweathermap.org/data/2.5/air_pollution?lat={lat}&lon={lon}&appid={API_KEY}\")\n",
    "data = res.json()\n",
    "pprint.pprint(data)"
   ]
  },
  {
   "cell_type": "code",
   "execution_count": 9,
   "metadata": {},
   "outputs": [
    {
     "data": {
      "text/html": [
       "<div>\n",
       "<style scoped>\n",
       "    .dataframe tbody tr th:only-of-type {\n",
       "        vertical-align: middle;\n",
       "    }\n",
       "\n",
       "    .dataframe tbody tr th {\n",
       "        vertical-align: top;\n",
       "    }\n",
       "\n",
       "    .dataframe thead th {\n",
       "        text-align: right;\n",
       "    }\n",
       "</style>\n",
       "<table border=\"1\" class=\"dataframe\">\n",
       "  <thead>\n",
       "    <tr style=\"text-align: right;\">\n",
       "      <th>대기오염</th>\n",
       "      <th>일산화 탄소</th>\n",
       "      <th>일산화 질소</th>\n",
       "      <th>오존</th>\n",
       "      <th>미세먼지</th>\n",
       "      <th>초미세먼지</th>\n",
       "    </tr>\n",
       "  </thead>\n",
       "  <tbody>\n",
       "    <tr>\n",
       "      <th>Ansan-si</th>\n",
       "      <td>494</td>\n",
       "      <td>5.42</td>\n",
       "      <td>49.35</td>\n",
       "      <td>17.71</td>\n",
       "      <td>23.16</td>\n",
       "    </tr>\n",
       "  </tbody>\n",
       "</table>\n",
       "</div>"
      ],
      "text/plain": [
       "대기오염      일산화 탄소  일산화 질소     오존   미세먼지  초미세먼지\n",
       "Ansan-si     494    5.42  49.35  17.71  23.16"
      ]
     },
     "execution_count": 9,
     "metadata": {},
     "output_type": "execute_result"
    }
   ],
   "source": [
    "w_data = data['list'][0]['components']\n",
    "\n",
    "#일산화 탄소\n",
    "CO = w_data['co']\n",
    "\n",
    "#일산화 질소\n",
    "NO = w_data['no']\n",
    "\n",
    "#오존\n",
    "O3 = w_data['o3']\n",
    "\n",
    "#미세먼지\n",
    "pm = w_data['pm2_5']\n",
    "\n",
    "#초미세먼지\n",
    "pm10 = w_data['pm10']\n",
    "\n",
    "di = {\n",
    "    \"일산화 탄소\":CO,\n",
    "    \"일산화 질소\":NO,\n",
    "    \"오존\":O3,\n",
    "    \"미세먼지\":pm,\n",
    "    \"초미세먼지\":pm10,\n",
    "\n",
    "}\n",
    "\n",
    "df = pd.DataFrame(data = di,index = [city_name])\n",
    "df.columns.name = \"대기오염\"\n",
    "df"
   ]
  },
  {
   "cell_type": "code",
   "execution_count": null,
   "metadata": {},
   "outputs": [],
   "source": []
  }
 ],
 "metadata": {
  "kernelspec": {
   "display_name": "Python 3",
   "language": "python",
   "name": "python3"
  },
  "language_info": {
   "codemirror_mode": {
    "name": "ipython",
    "version": 3
   },
   "file_extension": ".py",
   "mimetype": "text/x-python",
   "name": "python",
   "nbconvert_exporter": "python",
   "pygments_lexer": "ipython3",
   "version": "3.8.5"
  }
 },
 "nbformat": 4,
 "nbformat_minor": 4
}
