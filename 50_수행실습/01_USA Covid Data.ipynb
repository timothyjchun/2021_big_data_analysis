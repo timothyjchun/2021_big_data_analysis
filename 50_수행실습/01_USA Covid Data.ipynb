{
 "cells": [
  {
   "cell_type": "markdown",
   "metadata": {},
   "source": [
    "# 1.미국 내의 코로나 확진자 데이터"
   ]
  },
  {
   "cell_type": "code",
   "execution_count": 1,
   "metadata": {},
   "outputs": [
    {
     "name": "stdout",
     "output_type": "stream",
     "text": [
      "Downloading covid19-in-usa.zip to /Users/timothychun/50_수행실습\n",
      " 93%|███████████████████████████████████▏  | 9.00M/9.72M [00:01<00:00, 7.56MB/s]\n",
      "100%|██████████████████████████████████████| 9.72M/9.72M [00:01<00:00, 6.29MB/s]\n"
     ]
    }
   ],
   "source": [
    "# !kaggle datasets download -d sudalairajkumar/covid19-in-usa"
   ]
  },
  {
   "cell_type": "code",
   "execution_count": 3,
   "metadata": {},
   "outputs": [
    {
     "name": "stdout",
     "output_type": "stream",
     "text": [
      "x us_counties_covid19_daily.csv\n",
      "x us_covid19_daily.csv\n",
      "x us_states_covid19_daily.csv\n"
     ]
    }
   ],
   "source": [
    "# !tar -xvf covid19-in-usa.zip -C covid_data"
   ]
  },
  {
   "cell_type": "code",
   "execution_count": 7,
   "metadata": {},
   "outputs": [],
   "source": [
    "import numpy as np\n",
    "import pandas as pd\n",
    "import matplotlib.pyplot as plt"
   ]
  },
  {
   "cell_type": "code",
   "execution_count": 14,
   "metadata": {},
   "outputs": [
    {
     "name": "stdout",
     "output_type": "stream",
     "text": [
      "<class 'pandas.core.frame.DataFrame'>\n",
      "RangeIndex: 800437 entries, 0 to 800436\n",
      "Data columns (total 6 columns):\n",
      " #   Column  Non-Null Count   Dtype  \n",
      "---  ------  --------------   -----  \n",
      " 0   date    800437 non-null  object \n",
      " 1   county  800437 non-null  object \n",
      " 2   state   800437 non-null  object \n",
      " 3   fips    792846 non-null  float64\n",
      " 4   cases   800437 non-null  int64  \n",
      " 5   deaths  783704 non-null  float64\n",
      "dtypes: float64(2), int64(1), object(3)\n",
      "memory usage: 36.6+ MB\n"
     ]
    }
   ],
   "source": [
    "df = pd.read_csv('covid_data/us_counties_covid19_daily.csv')\n",
    "df.info()"
   ]
  },
  {
   "cell_type": "code",
   "execution_count": 15,
   "metadata": {},
   "outputs": [
    {
     "data": {
      "text/html": [
       "<div>\n",
       "<style scoped>\n",
       "    .dataframe tbody tr th:only-of-type {\n",
       "        vertical-align: middle;\n",
       "    }\n",
       "\n",
       "    .dataframe tbody tr th {\n",
       "        vertical-align: top;\n",
       "    }\n",
       "\n",
       "    .dataframe thead th {\n",
       "        text-align: right;\n",
       "    }\n",
       "</style>\n",
       "<table border=\"1\" class=\"dataframe\">\n",
       "  <thead>\n",
       "    <tr style=\"text-align: right;\">\n",
       "      <th></th>\n",
       "      <th>fips</th>\n",
       "      <th>cases</th>\n",
       "      <th>deaths</th>\n",
       "    </tr>\n",
       "  </thead>\n",
       "  <tbody>\n",
       "    <tr>\n",
       "      <th>count</th>\n",
       "      <td>792846.000000</td>\n",
       "      <td>800437.000000</td>\n",
       "      <td>783704.000000</td>\n",
       "    </tr>\n",
       "    <tr>\n",
       "      <th>mean</th>\n",
       "      <td>31238.198828</td>\n",
       "      <td>1589.667358</td>\n",
       "      <td>48.815309</td>\n",
       "    </tr>\n",
       "    <tr>\n",
       "      <th>std</th>\n",
       "      <td>16289.192418</td>\n",
       "      <td>8385.201329</td>\n",
       "      <td>440.482993</td>\n",
       "    </tr>\n",
       "    <tr>\n",
       "      <th>min</th>\n",
       "      <td>1001.000000</td>\n",
       "      <td>0.000000</td>\n",
       "      <td>0.000000</td>\n",
       "    </tr>\n",
       "    <tr>\n",
       "      <th>25%</th>\n",
       "      <td>18179.000000</td>\n",
       "      <td>29.000000</td>\n",
       "      <td>0.000000</td>\n",
       "    </tr>\n",
       "    <tr>\n",
       "      <th>50%</th>\n",
       "      <td>29209.000000</td>\n",
       "      <td>175.000000</td>\n",
       "      <td>3.000000</td>\n",
       "    </tr>\n",
       "    <tr>\n",
       "      <th>75%</th>\n",
       "      <td>46097.000000</td>\n",
       "      <td>775.000000</td>\n",
       "      <td>17.000000</td>\n",
       "    </tr>\n",
       "    <tr>\n",
       "      <th>max</th>\n",
       "      <td>78030.000000</td>\n",
       "      <td>439538.000000</td>\n",
       "      <td>24346.000000</td>\n",
       "    </tr>\n",
       "  </tbody>\n",
       "</table>\n",
       "</div>"
      ],
      "text/plain": [
       "                fips          cases         deaths\n",
       "count  792846.000000  800437.000000  783704.000000\n",
       "mean    31238.198828    1589.667358      48.815309\n",
       "std     16289.192418    8385.201329     440.482993\n",
       "min      1001.000000       0.000000       0.000000\n",
       "25%     18179.000000      29.000000       0.000000\n",
       "50%     29209.000000     175.000000       3.000000\n",
       "75%     46097.000000     775.000000      17.000000\n",
       "max     78030.000000  439538.000000   24346.000000"
      ]
     },
     "execution_count": 15,
     "metadata": {},
     "output_type": "execute_result"
    }
   ],
   "source": [
    "df.describe()"
   ]
  },
  {
   "cell_type": "code",
   "execution_count": null,
   "metadata": {},
   "outputs": [],
   "source": []
  }
 ],
 "metadata": {
  "interpreter": {
   "hash": "5c45e9b5dda6af78a4e79bb29fe5053375961227c8d11d70e61b7d4a5275cd32"
  },
  "kernelspec": {
   "display_name": "Python 3",
   "language": "python",
   "name": "python3"
  },
  "language_info": {
   "codemirror_mode": {
    "name": "ipython",
    "version": 3
   },
   "file_extension": ".py",
   "mimetype": "text/x-python",
   "name": "python",
   "nbconvert_exporter": "python",
   "pygments_lexer": "ipython3",
   "version": "3.8.5"
  }
 },
 "nbformat": 4,
 "nbformat_minor": 4
}
